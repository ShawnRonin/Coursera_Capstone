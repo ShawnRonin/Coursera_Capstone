{
  "nbformat": 4,
  "nbformat_minor": 0,
  "metadata": {
    "colab": {
      "name": "Capstone3.ipynb",
      "version": "0.3.2",
      "provenance": [],
      "collapsed_sections": [],
      "include_colab_link": true
    },
    "kernelspec": {
      "name": "python3",
      "display_name": "Python 3"
    }
  },
  "cells": [
    {
      "cell_type": "markdown",
      "metadata": {
        "id": "view-in-github",
        "colab_type": "text"
      },
      "source": [
        "<a href=\"https://colab.research.google.com/github/ShawnRonin/Coursera_Capstone/blob/master/Neighbourhood3.ipynb\" target=\"_parent\"><img src=\"https://colab.research.google.com/assets/colab-badge.svg\" alt=\"Open In Colab\"/></a>"
      ]
    },
    {
      "cell_type": "code",
      "metadata": {
        "id": "-8NV2Y0d41hV",
        "colab_type": "code",
        "colab": {}
      },
      "source": [
        "import pandas as pd"
      ],
      "execution_count": 0,
      "outputs": []
    },
    {
      "cell_type": "markdown",
      "metadata": {
        "id": "NlwfzQT9Mu6d",
        "colab_type": "text"
      },
      "source": [
        "**Use Pandas' read_html' function to pull the list of postal codes out of the wikipedia page and assigned all entries to a dataframe. Then I display it for confirmation with the .head() function.**"
      ]
    },
    {
      "cell_type": "code",
      "metadata": {
        "id": "ZH-TKler44tg",
        "colab_type": "code",
        "colab": {
          "base_uri": "https://localhost:8080/",
          "height": 204
        },
        "outputId": "20b97e38-f846-4852-a91b-df88bcb3cc09"
      },
      "source": [
        "df=pd.read_html(\"https://en.wikipedia.org/wiki/List_of_postal_codes_of_Canada:_M\")[0]\n",
        "df.head()"
      ],
      "execution_count": 2,
      "outputs": [
        {
          "output_type": "execute_result",
          "data": {
            "text/html": [
              "<div>\n",
              "<style scoped>\n",
              "    .dataframe tbody tr th:only-of-type {\n",
              "        vertical-align: middle;\n",
              "    }\n",
              "\n",
              "    .dataframe tbody tr th {\n",
              "        vertical-align: top;\n",
              "    }\n",
              "\n",
              "    .dataframe thead th {\n",
              "        text-align: right;\n",
              "    }\n",
              "</style>\n",
              "<table border=\"1\" class=\"dataframe\">\n",
              "  <thead>\n",
              "    <tr style=\"text-align: right;\">\n",
              "      <th></th>\n",
              "      <th>Postcode</th>\n",
              "      <th>Borough</th>\n",
              "      <th>Neighbourhood</th>\n",
              "    </tr>\n",
              "  </thead>\n",
              "  <tbody>\n",
              "    <tr>\n",
              "      <th>0</th>\n",
              "      <td>M1A</td>\n",
              "      <td>Not assigned</td>\n",
              "      <td>Not assigned</td>\n",
              "    </tr>\n",
              "    <tr>\n",
              "      <th>1</th>\n",
              "      <td>M2A</td>\n",
              "      <td>Not assigned</td>\n",
              "      <td>Not assigned</td>\n",
              "    </tr>\n",
              "    <tr>\n",
              "      <th>2</th>\n",
              "      <td>M3A</td>\n",
              "      <td>North York</td>\n",
              "      <td>Parkwoods</td>\n",
              "    </tr>\n",
              "    <tr>\n",
              "      <th>3</th>\n",
              "      <td>M4A</td>\n",
              "      <td>North York</td>\n",
              "      <td>Victoria Village</td>\n",
              "    </tr>\n",
              "    <tr>\n",
              "      <th>4</th>\n",
              "      <td>M5A</td>\n",
              "      <td>Downtown Toronto</td>\n",
              "      <td>Harbourfront</td>\n",
              "    </tr>\n",
              "  </tbody>\n",
              "</table>\n",
              "</div>"
            ],
            "text/plain": [
              "  Postcode           Borough     Neighbourhood\n",
              "0      M1A      Not assigned      Not assigned\n",
              "1      M2A      Not assigned      Not assigned\n",
              "2      M3A        North York         Parkwoods\n",
              "3      M4A        North York  Victoria Village\n",
              "4      M5A  Downtown Toronto      Harbourfront"
            ]
          },
          "metadata": {
            "tags": []
          },
          "execution_count": 2
        }
      ]
    },
    {
      "cell_type": "markdown",
      "metadata": {
        "id": "9Y3NOxpqNPKP",
        "colab_type": "text"
      },
      "source": [
        "**Pull all entries of the dataframe out that do not have a value of 'not assigned' in the Borough column then reassign the data frame to only include those entries.**"
      ]
    },
    {
      "cell_type": "code",
      "metadata": {
        "id": "2-bjf7765Mf-",
        "colab_type": "code",
        "colab": {}
      },
      "source": [
        "df = df[df.Borough != \"Not assigned\"]"
      ],
      "execution_count": 0,
      "outputs": []
    },
    {
      "cell_type": "markdown",
      "metadata": {
        "id": "3FwsUE7kOXQB",
        "colab_type": "text"
      },
      "source": [
        "**Group rows together by those that share the same 'Postcode' and 'Borough' entries and append all unique 'Neighbourhood' entries into a list seperated by commas. Here we also arrange the dataframe in order by postcode and reset the index for future convenience.**"
      ]
    },
    {
      "cell_type": "code",
      "metadata": {
        "id": "y1ZDjDx48E8f",
        "colab_type": "code",
        "colab": {
          "base_uri": "https://localhost:8080/",
          "height": 204
        },
        "outputId": "02b47ed3-986f-42cc-df81-e4b275390c51"
      },
      "source": [
        "df2 = df.groupby(['Postcode','Borough'])['Neighbourhood'].apply(lambda x: ','.join(x.astype(str))).reset_index()\n",
        "df2.head()"
      ],
      "execution_count": 4,
      "outputs": [
        {
          "output_type": "execute_result",
          "data": {
            "text/html": [
              "<div>\n",
              "<style scoped>\n",
              "    .dataframe tbody tr th:only-of-type {\n",
              "        vertical-align: middle;\n",
              "    }\n",
              "\n",
              "    .dataframe tbody tr th {\n",
              "        vertical-align: top;\n",
              "    }\n",
              "\n",
              "    .dataframe thead th {\n",
              "        text-align: right;\n",
              "    }\n",
              "</style>\n",
              "<table border=\"1\" class=\"dataframe\">\n",
              "  <thead>\n",
              "    <tr style=\"text-align: right;\">\n",
              "      <th></th>\n",
              "      <th>Postcode</th>\n",
              "      <th>Borough</th>\n",
              "      <th>Neighbourhood</th>\n",
              "    </tr>\n",
              "  </thead>\n",
              "  <tbody>\n",
              "    <tr>\n",
              "      <th>0</th>\n",
              "      <td>M1B</td>\n",
              "      <td>Scarborough</td>\n",
              "      <td>Rouge,Malvern</td>\n",
              "    </tr>\n",
              "    <tr>\n",
              "      <th>1</th>\n",
              "      <td>M1C</td>\n",
              "      <td>Scarborough</td>\n",
              "      <td>Highland Creek,Rouge Hill,Port Union</td>\n",
              "    </tr>\n",
              "    <tr>\n",
              "      <th>2</th>\n",
              "      <td>M1E</td>\n",
              "      <td>Scarborough</td>\n",
              "      <td>Guildwood,Morningside,West Hill</td>\n",
              "    </tr>\n",
              "    <tr>\n",
              "      <th>3</th>\n",
              "      <td>M1G</td>\n",
              "      <td>Scarborough</td>\n",
              "      <td>Woburn</td>\n",
              "    </tr>\n",
              "    <tr>\n",
              "      <th>4</th>\n",
              "      <td>M1H</td>\n",
              "      <td>Scarborough</td>\n",
              "      <td>Cedarbrae</td>\n",
              "    </tr>\n",
              "  </tbody>\n",
              "</table>\n",
              "</div>"
            ],
            "text/plain": [
              "  Postcode      Borough                         Neighbourhood\n",
              "0      M1B  Scarborough                         Rouge,Malvern\n",
              "1      M1C  Scarborough  Highland Creek,Rouge Hill,Port Union\n",
              "2      M1E  Scarborough       Guildwood,Morningside,West Hill\n",
              "3      M1G  Scarborough                                Woburn\n",
              "4      M1H  Scarborough                             Cedarbrae"
            ]
          },
          "metadata": {
            "tags": []
          },
          "execution_count": 4
        }
      ]
    },
    {
      "cell_type": "markdown",
      "metadata": {
        "id": "ESJD4mRbPHPq",
        "colab_type": "text"
      },
      "source": [
        "**Search the dataframe for entries in the 'Neighborhood' column with the value of 'not assigned' and replace those with the entry present in that row's 'Borough' column.**"
      ]
    },
    {
      "cell_type": "code",
      "metadata": {
        "id": "UOP8Wu-UIZ4b",
        "colab_type": "code",
        "colab": {}
      },
      "source": [
        "df2.loc[df2['Neighbourhood'] == ('Not assigned'), 'Neighbourhood'] = df2['Borough']"
      ],
      "execution_count": 0,
      "outputs": []
    },
    {
      "cell_type": "markdown",
      "metadata": {
        "id": "7ViP2d4jPhpf",
        "colab_type": "text"
      },
      "source": [
        "**Here we Print out the number of rows present in the final dataframe using the .shape[] function.**"
      ]
    },
    {
      "cell_type": "code",
      "metadata": {
        "id": "6kIe0bKGJVnG",
        "colab_type": "code",
        "colab": {
          "base_uri": "https://localhost:8080/",
          "height": 34
        },
        "outputId": "72102566-39cc-4dc9-be9d-a0215e52f4ba"
      },
      "source": [
        "print(\"The final number of rows in this dataframe is\", df2.shape[0])"
      ],
      "execution_count": 6,
      "outputs": [
        {
          "output_type": "stream",
          "text": [
            "The final number of rows in this dataframe is 103\n"
          ],
          "name": "stdout"
        }
      ]
    },
    {
      "cell_type": "markdown",
      "metadata": {
        "id": "g262geDMYOKT",
        "colab_type": "text"
      },
      "source": [
        "**Read the Geospatial data in via Pandas' read_csv function and assigned it to a dataframe**"
      ]
    },
    {
      "cell_type": "code",
      "metadata": {
        "id": "3KPh1KI3JXs_",
        "colab_type": "code",
        "colab": {}
      },
      "source": [
        "da = pd.read_csv('http://cocl.us/Geospatial_data')"
      ],
      "execution_count": 0,
      "outputs": []
    },
    {
      "cell_type": "code",
      "metadata": {
        "id": "wOzG8qaJUvOp",
        "colab_type": "code",
        "colab": {
          "base_uri": "https://localhost:8080/",
          "height": 204
        },
        "outputId": "3d72d1f7-856b-44ba-cd0e-4d4065a59d21"
      },
      "source": [
        "da.head()"
      ],
      "execution_count": 8,
      "outputs": [
        {
          "output_type": "execute_result",
          "data": {
            "text/html": [
              "<div>\n",
              "<style scoped>\n",
              "    .dataframe tbody tr th:only-of-type {\n",
              "        vertical-align: middle;\n",
              "    }\n",
              "\n",
              "    .dataframe tbody tr th {\n",
              "        vertical-align: top;\n",
              "    }\n",
              "\n",
              "    .dataframe thead th {\n",
              "        text-align: right;\n",
              "    }\n",
              "</style>\n",
              "<table border=\"1\" class=\"dataframe\">\n",
              "  <thead>\n",
              "    <tr style=\"text-align: right;\">\n",
              "      <th></th>\n",
              "      <th>Postal Code</th>\n",
              "      <th>Latitude</th>\n",
              "      <th>Longitude</th>\n",
              "    </tr>\n",
              "  </thead>\n",
              "  <tbody>\n",
              "    <tr>\n",
              "      <th>0</th>\n",
              "      <td>M1B</td>\n",
              "      <td>43.806686</td>\n",
              "      <td>-79.194353</td>\n",
              "    </tr>\n",
              "    <tr>\n",
              "      <th>1</th>\n",
              "      <td>M1C</td>\n",
              "      <td>43.784535</td>\n",
              "      <td>-79.160497</td>\n",
              "    </tr>\n",
              "    <tr>\n",
              "      <th>2</th>\n",
              "      <td>M1E</td>\n",
              "      <td>43.763573</td>\n",
              "      <td>-79.188711</td>\n",
              "    </tr>\n",
              "    <tr>\n",
              "      <th>3</th>\n",
              "      <td>M1G</td>\n",
              "      <td>43.770992</td>\n",
              "      <td>-79.216917</td>\n",
              "    </tr>\n",
              "    <tr>\n",
              "      <th>4</th>\n",
              "      <td>M1H</td>\n",
              "      <td>43.773136</td>\n",
              "      <td>-79.239476</td>\n",
              "    </tr>\n",
              "  </tbody>\n",
              "</table>\n",
              "</div>"
            ],
            "text/plain": [
              "  Postal Code   Latitude  Longitude\n",
              "0         M1B  43.806686 -79.194353\n",
              "1         M1C  43.784535 -79.160497\n",
              "2         M1E  43.763573 -79.188711\n",
              "3         M1G  43.770992 -79.216917\n",
              "4         M1H  43.773136 -79.239476"
            ]
          },
          "metadata": {
            "tags": []
          },
          "execution_count": 8
        }
      ]
    },
    {
      "cell_type": "markdown",
      "metadata": {
        "id": "Iq54DyiiYad7",
        "colab_type": "text"
      },
      "source": [
        "**Join the dataframes on common Postal Code entries.**"
      ]
    },
    {
      "cell_type": "code",
      "metadata": {
        "id": "jswai0KcU1WD",
        "colab_type": "code",
        "colab": {
          "base_uri": "https://localhost:8080/",
          "height": 204
        },
        "outputId": "3e4c3833-ec83-4036-e160-5ba0a1c67373"
      },
      "source": [
        "df_toronto = pd.merge(df2, da, left_on = 'Postcode', right_on = 'Postal Code')\n",
        "df_toronto.head()"
      ],
      "execution_count": 9,
      "outputs": [
        {
          "output_type": "execute_result",
          "data": {
            "text/html": [
              "<div>\n",
              "<style scoped>\n",
              "    .dataframe tbody tr th:only-of-type {\n",
              "        vertical-align: middle;\n",
              "    }\n",
              "\n",
              "    .dataframe tbody tr th {\n",
              "        vertical-align: top;\n",
              "    }\n",
              "\n",
              "    .dataframe thead th {\n",
              "        text-align: right;\n",
              "    }\n",
              "</style>\n",
              "<table border=\"1\" class=\"dataframe\">\n",
              "  <thead>\n",
              "    <tr style=\"text-align: right;\">\n",
              "      <th></th>\n",
              "      <th>Postcode</th>\n",
              "      <th>Borough</th>\n",
              "      <th>Neighbourhood</th>\n",
              "      <th>Postal Code</th>\n",
              "      <th>Latitude</th>\n",
              "      <th>Longitude</th>\n",
              "    </tr>\n",
              "  </thead>\n",
              "  <tbody>\n",
              "    <tr>\n",
              "      <th>0</th>\n",
              "      <td>M1B</td>\n",
              "      <td>Scarborough</td>\n",
              "      <td>Rouge,Malvern</td>\n",
              "      <td>M1B</td>\n",
              "      <td>43.806686</td>\n",
              "      <td>-79.194353</td>\n",
              "    </tr>\n",
              "    <tr>\n",
              "      <th>1</th>\n",
              "      <td>M1C</td>\n",
              "      <td>Scarborough</td>\n",
              "      <td>Highland Creek,Rouge Hill,Port Union</td>\n",
              "      <td>M1C</td>\n",
              "      <td>43.784535</td>\n",
              "      <td>-79.160497</td>\n",
              "    </tr>\n",
              "    <tr>\n",
              "      <th>2</th>\n",
              "      <td>M1E</td>\n",
              "      <td>Scarborough</td>\n",
              "      <td>Guildwood,Morningside,West Hill</td>\n",
              "      <td>M1E</td>\n",
              "      <td>43.763573</td>\n",
              "      <td>-79.188711</td>\n",
              "    </tr>\n",
              "    <tr>\n",
              "      <th>3</th>\n",
              "      <td>M1G</td>\n",
              "      <td>Scarborough</td>\n",
              "      <td>Woburn</td>\n",
              "      <td>M1G</td>\n",
              "      <td>43.770992</td>\n",
              "      <td>-79.216917</td>\n",
              "    </tr>\n",
              "    <tr>\n",
              "      <th>4</th>\n",
              "      <td>M1H</td>\n",
              "      <td>Scarborough</td>\n",
              "      <td>Cedarbrae</td>\n",
              "      <td>M1H</td>\n",
              "      <td>43.773136</td>\n",
              "      <td>-79.239476</td>\n",
              "    </tr>\n",
              "  </tbody>\n",
              "</table>\n",
              "</div>"
            ],
            "text/plain": [
              "  Postcode      Borough  ...   Latitude  Longitude\n",
              "0      M1B  Scarborough  ...  43.806686 -79.194353\n",
              "1      M1C  Scarborough  ...  43.784535 -79.160497\n",
              "2      M1E  Scarborough  ...  43.763573 -79.188711\n",
              "3      M1G  Scarborough  ...  43.770992 -79.216917\n",
              "4      M1H  Scarborough  ...  43.773136 -79.239476\n",
              "\n",
              "[5 rows x 6 columns]"
            ]
          },
          "metadata": {
            "tags": []
          },
          "execution_count": 9
        }
      ]
    },
    {
      "cell_type": "code",
      "metadata": {
        "id": "d4gY50kKW6YI",
        "colab_type": "code",
        "colab": {}
      },
      "source": [
        "import numpy as np \n",
        "\n",
        "from geopy.geocoders import Nominatim\n",
        "import requests \n",
        "\n",
        "from pandas.io.json import json_normalize \n",
        "import json\n",
        "\n",
        "import matplotlib.cm as cm\n",
        "import matplotlib.colors as colors\n",
        "\n",
        "from sklearn.cluster import KMeans\n",
        "import folium"
      ],
      "execution_count": 0,
      "outputs": []
    },
    {
      "cell_type": "markdown",
      "metadata": {
        "id": "q9M0rZi5mgb6",
        "colab_type": "text"
      },
      "source": [
        "**Let's check out the neighbourhood of Etobicoke (my brother used to live there)**"
      ]
    },
    {
      "cell_type": "code",
      "metadata": {
        "id": "dYsZ4QE2megr",
        "colab_type": "code",
        "colab": {
          "base_uri": "https://localhost:8080/",
          "height": 421
        },
        "outputId": "a9e59c04-0b71-4e34-de67-40c028b6f7af"
      },
      "source": [
        "df_etobicoke = df_toronto[df_toronto['Borough'] == 'Etobicoke'].reset_index(drop=True)\n",
        "df_etobicoke"
      ],
      "execution_count": 11,
      "outputs": [
        {
          "output_type": "execute_result",
          "data": {
            "text/html": [
              "<div>\n",
              "<style scoped>\n",
              "    .dataframe tbody tr th:only-of-type {\n",
              "        vertical-align: middle;\n",
              "    }\n",
              "\n",
              "    .dataframe tbody tr th {\n",
              "        vertical-align: top;\n",
              "    }\n",
              "\n",
              "    .dataframe thead th {\n",
              "        text-align: right;\n",
              "    }\n",
              "</style>\n",
              "<table border=\"1\" class=\"dataframe\">\n",
              "  <thead>\n",
              "    <tr style=\"text-align: right;\">\n",
              "      <th></th>\n",
              "      <th>Postcode</th>\n",
              "      <th>Borough</th>\n",
              "      <th>Neighbourhood</th>\n",
              "      <th>Postal Code</th>\n",
              "      <th>Latitude</th>\n",
              "      <th>Longitude</th>\n",
              "    </tr>\n",
              "  </thead>\n",
              "  <tbody>\n",
              "    <tr>\n",
              "      <th>0</th>\n",
              "      <td>M8V</td>\n",
              "      <td>Etobicoke</td>\n",
              "      <td>Humber Bay Shores,Mimico South,New Toronto</td>\n",
              "      <td>M8V</td>\n",
              "      <td>43.605647</td>\n",
              "      <td>-79.501321</td>\n",
              "    </tr>\n",
              "    <tr>\n",
              "      <th>1</th>\n",
              "      <td>M8W</td>\n",
              "      <td>Etobicoke</td>\n",
              "      <td>Alderwood,Long Branch</td>\n",
              "      <td>M8W</td>\n",
              "      <td>43.602414</td>\n",
              "      <td>-79.543484</td>\n",
              "    </tr>\n",
              "    <tr>\n",
              "      <th>2</th>\n",
              "      <td>M8X</td>\n",
              "      <td>Etobicoke</td>\n",
              "      <td>The Kingsway,Montgomery Road,Old Mill North</td>\n",
              "      <td>M8X</td>\n",
              "      <td>43.653654</td>\n",
              "      <td>-79.506944</td>\n",
              "    </tr>\n",
              "    <tr>\n",
              "      <th>3</th>\n",
              "      <td>M8Y</td>\n",
              "      <td>Etobicoke</td>\n",
              "      <td>Humber Bay,King's Mill Park,Kingsway Park Sout...</td>\n",
              "      <td>M8Y</td>\n",
              "      <td>43.636258</td>\n",
              "      <td>-79.498509</td>\n",
              "    </tr>\n",
              "    <tr>\n",
              "      <th>4</th>\n",
              "      <td>M8Z</td>\n",
              "      <td>Etobicoke</td>\n",
              "      <td>Kingsway Park South West,Mimico NW,The Queensw...</td>\n",
              "      <td>M8Z</td>\n",
              "      <td>43.628841</td>\n",
              "      <td>-79.520999</td>\n",
              "    </tr>\n",
              "    <tr>\n",
              "      <th>5</th>\n",
              "      <td>M9A</td>\n",
              "      <td>Etobicoke</td>\n",
              "      <td>Islington Avenue</td>\n",
              "      <td>M9A</td>\n",
              "      <td>43.667856</td>\n",
              "      <td>-79.532242</td>\n",
              "    </tr>\n",
              "    <tr>\n",
              "      <th>6</th>\n",
              "      <td>M9B</td>\n",
              "      <td>Etobicoke</td>\n",
              "      <td>Cloverdale,Islington,Martin Grove,Princess Gar...</td>\n",
              "      <td>M9B</td>\n",
              "      <td>43.650943</td>\n",
              "      <td>-79.554724</td>\n",
              "    </tr>\n",
              "    <tr>\n",
              "      <th>7</th>\n",
              "      <td>M9C</td>\n",
              "      <td>Etobicoke</td>\n",
              "      <td>Bloordale Gardens,Eringate,Markland Wood,Old B...</td>\n",
              "      <td>M9C</td>\n",
              "      <td>43.643515</td>\n",
              "      <td>-79.577201</td>\n",
              "    </tr>\n",
              "    <tr>\n",
              "      <th>8</th>\n",
              "      <td>M9P</td>\n",
              "      <td>Etobicoke</td>\n",
              "      <td>Westmount</td>\n",
              "      <td>M9P</td>\n",
              "      <td>43.696319</td>\n",
              "      <td>-79.532242</td>\n",
              "    </tr>\n",
              "    <tr>\n",
              "      <th>9</th>\n",
              "      <td>M9R</td>\n",
              "      <td>Etobicoke</td>\n",
              "      <td>Kingsview Village,Martin Grove Gardens,Richvie...</td>\n",
              "      <td>M9R</td>\n",
              "      <td>43.688905</td>\n",
              "      <td>-79.554724</td>\n",
              "    </tr>\n",
              "    <tr>\n",
              "      <th>10</th>\n",
              "      <td>M9V</td>\n",
              "      <td>Etobicoke</td>\n",
              "      <td>Albion Gardens,Beaumond Heights,Humbergate,Jam...</td>\n",
              "      <td>M9V</td>\n",
              "      <td>43.739416</td>\n",
              "      <td>-79.588437</td>\n",
              "    </tr>\n",
              "    <tr>\n",
              "      <th>11</th>\n",
              "      <td>M9W</td>\n",
              "      <td>Etobicoke</td>\n",
              "      <td>Northwest</td>\n",
              "      <td>M9W</td>\n",
              "      <td>43.706748</td>\n",
              "      <td>-79.594054</td>\n",
              "    </tr>\n",
              "  </tbody>\n",
              "</table>\n",
              "</div>"
            ],
            "text/plain": [
              "   Postcode    Borough  ...   Latitude  Longitude\n",
              "0       M8V  Etobicoke  ...  43.605647 -79.501321\n",
              "1       M8W  Etobicoke  ...  43.602414 -79.543484\n",
              "2       M8X  Etobicoke  ...  43.653654 -79.506944\n",
              "3       M8Y  Etobicoke  ...  43.636258 -79.498509\n",
              "4       M8Z  Etobicoke  ...  43.628841 -79.520999\n",
              "5       M9A  Etobicoke  ...  43.667856 -79.532242\n",
              "6       M9B  Etobicoke  ...  43.650943 -79.554724\n",
              "7       M9C  Etobicoke  ...  43.643515 -79.577201\n",
              "8       M9P  Etobicoke  ...  43.696319 -79.532242\n",
              "9       M9R  Etobicoke  ...  43.688905 -79.554724\n",
              "10      M9V  Etobicoke  ...  43.739416 -79.588437\n",
              "11      M9W  Etobicoke  ...  43.706748 -79.594054\n",
              "\n",
              "[12 rows x 6 columns]"
            ]
          },
          "metadata": {
            "tags": []
          },
          "execution_count": 11
        }
      ]
    },
    {
      "cell_type": "code",
      "metadata": {
        "id": "OmBVmVH7mvae",
        "colab_type": "code",
        "colab": {}
      },
      "source": [
        "#from wikipedia\n",
        "e_lat = 43.62\n",
        "e_long = -79.51\n",
        "\n",
        "# create map of Manhattan using latitude and longitude values\n",
        "map_etobicoke = folium.Map(location=[e_lat, e_long], zoom_start=11)\n",
        "\n",
        "# add markers to map\n",
        "for lat, lng, label in zip(df_etobicoke['Latitude'], df_etobicoke['Longitude'], df_etobicoke['Neighbourhood']):\n",
        "    label = folium.Popup(label, parse_html=True)\n",
        "    folium.CircleMarker(\n",
        "        [lat, lng],\n",
        "        radius=5,\n",
        "        popup=label,\n",
        "        color='blue',\n",
        "        fill=True,\n",
        "        fill_color='#3186cc',\n",
        "        fill_opacity=0.7,\n",
        "        parse_html=False).add_to(map_etobicoke)  \n",
        "    \n",
        "#map_etobicoke"
      ],
      "execution_count": 0,
      "outputs": []
    },
    {
      "cell_type": "code",
      "metadata": {
        "id": "Xyt-YBxv5qdC",
        "colab_type": "code",
        "colab": {}
      },
      "source": [
        "CLIENT_ID = 'VACLNPU0GQJWRLQFFS53YYJVKOFU104PVLCERJOFTFGELELM' \n",
        "CLIENT_SECRET = 'VXZSKZE2GXYP4RTZIGE0400A4Y350PAA2RP0P5OQTLGU3QZS'\n",
        "VERSION = '20190623'"
      ],
      "execution_count": 0,
      "outputs": []
    },
    {
      "cell_type": "markdown",
      "metadata": {
        "id": "jbekjohaLMQp",
        "colab_type": "text"
      },
      "source": [
        "**Write a function to make pulling nearby venues easier**"
      ]
    },
    {
      "cell_type": "code",
      "metadata": {
        "id": "bwUtqemu66Pv",
        "colab_type": "code",
        "colab": {}
      },
      "source": [
        "def getNearbyVenues(names, latitudes, longitudes, radius=600):\n",
        "    \n",
        "    venues_list=[]\n",
        "    for name, lat, lng in zip(names, latitudes, longitudes):\n",
        "        print(name)\n",
        "            \n",
        "        # create the API request URL\n",
        "        url = 'https://api.foursquare.com/v2/venues/explore?&client_id={}&client_secret={}&v={}&ll={},{}&radius={}&limit={}'.format(\n",
        "            CLIENT_ID, \n",
        "            CLIENT_SECRET, \n",
        "            VERSION, \n",
        "            lat, \n",
        "            lng, \n",
        "            800, \n",
        "            300)\n",
        "            \n",
        "        # make the GET request\n",
        "        results = requests.get(url).json()[\"response\"]['groups'][0]['items']\n",
        "        \n",
        "        # return only relevant information for each nearby venue\n",
        "        venues_list.append([(\n",
        "            name, \n",
        "            lat, \n",
        "            lng, \n",
        "            v['venue']['name'], \n",
        "            v['venue']['location']['lat'], \n",
        "            v['venue']['location']['lng'],  \n",
        "            v['venue']['categories'][0]['name']) for v in results])\n",
        "\n",
        "    nearby_venues = pd.DataFrame([item for venue_list in venues_list for item in venue_list])\n",
        "    nearby_venues.columns = ['Neighbourhood', \n",
        "                  'Neighbourhood Latitude', \n",
        "                  'Neighbourhood Longitude', \n",
        "                  'Venue', \n",
        "                  'Venue Latitude', \n",
        "                  'Venue Longitude', \n",
        "                  'Venue Category']\n",
        "    \n",
        "    return(nearby_venues)"
      ],
      "execution_count": 0,
      "outputs": []
    },
    {
      "cell_type": "markdown",
      "metadata": {
        "id": "9BnEim2BLTKA",
        "colab_type": "text"
      },
      "source": [
        "**Call foursquare to get the nearby venues for each Neighbourhood**"
      ]
    },
    {
      "cell_type": "code",
      "metadata": {
        "id": "b5k-vql77OPT",
        "colab_type": "code",
        "colab": {
          "base_uri": "https://localhost:8080/",
          "height": 221
        },
        "outputId": "6cf517a8-dd00-4f8d-e57c-753f2603d15b"
      },
      "source": [
        "etobicoke_venues = getNearbyVenues(names=df_etobicoke['Neighbourhood'],\n",
        "                                   latitudes=df_etobicoke['Latitude'],\n",
        "                                   longitudes=df_etobicoke['Longitude']\n",
        "                                  )"
      ],
      "execution_count": 15,
      "outputs": [
        {
          "output_type": "stream",
          "text": [
            "Humber Bay Shores,Mimico South,New Toronto\n",
            "Alderwood,Long Branch\n",
            "The Kingsway,Montgomery Road,Old Mill North\n",
            "Humber Bay,King's Mill Park,Kingsway Park South East,Mimico NE,Old Mill South,The Queensway East,Royal York South East,Sunnylea\n",
            "Kingsway Park South West,Mimico NW,The Queensway West,Royal York South West,South of Bloor\n",
            "Islington Avenue\n",
            "Cloverdale,Islington,Martin Grove,Princess Gardens,West Deane Park\n",
            "Bloordale Gardens,Eringate,Markland Wood,Old Burnhamthorpe\n",
            "Westmount\n",
            "Kingsview Village,Martin Grove Gardens,Richview Gardens,St. Phillips\n",
            "Albion Gardens,Beaumond Heights,Humbergate,Jamestown,Mount Olive,Silverstone,South Steeles,Thistletown\n",
            "Northwest\n"
          ],
          "name": "stdout"
        }
      ]
    },
    {
      "cell_type": "markdown",
      "metadata": {
        "id": "BE4QuW-zHjAV",
        "colab_type": "text"
      },
      "source": [
        "**Convert the Venue data to one hot encoding then built a data frame with it and their Neighbourhoods**"
      ]
    },
    {
      "cell_type": "code",
      "metadata": {
        "id": "tZ3EeRmV9NfT",
        "colab_type": "code",
        "colab": {}
      },
      "source": [
        "etobicoke_onehot = pd.get_dummies(etobicoke_venues[['Venue Category']], prefix=\"\", prefix_sep=\"\")\n",
        "etobicoke_onehot['Neighbourhood'] = etobicoke_venues['Neighbourhood'] \n",
        "fixed_columns = [etobicoke_onehot.columns[-1]] + list(etobicoke_onehot.columns[:-1])\n",
        "etobicoke_venuelist = etobicoke_onehot.groupby('Neighbourhood').mean().reset_index()"
      ],
      "execution_count": 0,
      "outputs": []
    },
    {
      "cell_type": "markdown",
      "metadata": {
        "id": "D0sNNY81IR3t",
        "colab_type": "text"
      },
      "source": [
        "**Find the 5 most common venues for each Neighbourhood**"
      ]
    },
    {
      "cell_type": "code",
      "metadata": {
        "id": "6dDAVoVZ-CXB",
        "colab_type": "code",
        "colab": {
          "base_uri": "https://localhost:8080/",
          "height": 204
        },
        "outputId": "9a30ecca-5179-4292-e6ec-fefba46d0265"
      },
      "source": [
        "def return_most_common_venues(row, num_top_venues):\n",
        "    row_categories = row.iloc[1:]\n",
        "    row_categories_sorted = row_categories.sort_values(ascending=False)\n",
        "    \n",
        "    return row_categories_sorted.index.values[0:num_top_venues]\n",
        "num_top_venues = 5\n",
        "\n",
        "indicators = ['st', 'nd', 'rd']\n",
        "\n",
        "# create columns according to number of top venues\n",
        "columns = ['Neighbourhood']\n",
        "for ind in np.arange(num_top_venues):\n",
        "    try:\n",
        "        columns.append('{}{} Most Common Venue'.format(ind+1, indicators[ind]))\n",
        "    except:\n",
        "        columns.append('{}th Most Common Venue'.format(ind+1))\n",
        "\n",
        "# create a new dataframe\n",
        "e_neighborhoods_venues_sorted = pd.DataFrame(columns=columns)\n",
        "e_neighborhoods_venues_sorted['Neighbourhood'] = etobicoke_venuelist['Neighbourhood']\n",
        "\n",
        "for ind in np.arange(etobicoke_venuelist.shape[0]):\n",
        "    e_neighborhoods_venues_sorted.iloc[ind, 1:] = return_most_common_venues(etobicoke_venuelist.iloc[ind, :], num_top_venues)\n",
        "\n",
        "e_neighborhoods_venues_sorted.head()"
      ],
      "execution_count": 17,
      "outputs": [
        {
          "output_type": "execute_result",
          "data": {
            "text/html": [
              "<div>\n",
              "<style scoped>\n",
              "    .dataframe tbody tr th:only-of-type {\n",
              "        vertical-align: middle;\n",
              "    }\n",
              "\n",
              "    .dataframe tbody tr th {\n",
              "        vertical-align: top;\n",
              "    }\n",
              "\n",
              "    .dataframe thead th {\n",
              "        text-align: right;\n",
              "    }\n",
              "</style>\n",
              "<table border=\"1\" class=\"dataframe\">\n",
              "  <thead>\n",
              "    <tr style=\"text-align: right;\">\n",
              "      <th></th>\n",
              "      <th>Neighbourhood</th>\n",
              "      <th>1st Most Common Venue</th>\n",
              "      <th>2nd Most Common Venue</th>\n",
              "      <th>3rd Most Common Venue</th>\n",
              "      <th>4th Most Common Venue</th>\n",
              "      <th>5th Most Common Venue</th>\n",
              "    </tr>\n",
              "  </thead>\n",
              "  <tbody>\n",
              "    <tr>\n",
              "      <th>0</th>\n",
              "      <td>Albion Gardens,Beaumond Heights,Humbergate,Jam...</td>\n",
              "      <td>Pizza Place</td>\n",
              "      <td>Grocery Store</td>\n",
              "      <td>Fast Food Restaurant</td>\n",
              "      <td>Coffee Shop</td>\n",
              "      <td>Sandwich Place</td>\n",
              "    </tr>\n",
              "    <tr>\n",
              "      <th>1</th>\n",
              "      <td>Alderwood,Long Branch</td>\n",
              "      <td>Pizza Place</td>\n",
              "      <td>Convenience Store</td>\n",
              "      <td>Skating Rink</td>\n",
              "      <td>Donut Shop</td>\n",
              "      <td>Coffee Shop</td>\n",
              "    </tr>\n",
              "    <tr>\n",
              "      <th>2</th>\n",
              "      <td>Bloordale Gardens,Eringate,Markland Wood,Old B...</td>\n",
              "      <td>Coffee Shop</td>\n",
              "      <td>Park</td>\n",
              "      <td>Pizza Place</td>\n",
              "      <td>Beer Store</td>\n",
              "      <td>Pharmacy</td>\n",
              "    </tr>\n",
              "    <tr>\n",
              "      <th>3</th>\n",
              "      <td>Cloverdale,Islington,Martin Grove,Princess Gar...</td>\n",
              "      <td>Pizza Place</td>\n",
              "      <td>Bank</td>\n",
              "      <td>Convenience Store</td>\n",
              "      <td>Hotel</td>\n",
              "      <td>Café</td>\n",
              "    </tr>\n",
              "    <tr>\n",
              "      <th>4</th>\n",
              "      <td>Humber Bay Shores,Mimico South,New Toronto</td>\n",
              "      <td>Café</td>\n",
              "      <td>Mexican Restaurant</td>\n",
              "      <td>Pharmacy</td>\n",
              "      <td>Bus Stop</td>\n",
              "      <td>Fast Food Restaurant</td>\n",
              "    </tr>\n",
              "  </tbody>\n",
              "</table>\n",
              "</div>"
            ],
            "text/plain": [
              "                                       Neighbourhood  ... 5th Most Common Venue\n",
              "0  Albion Gardens,Beaumond Heights,Humbergate,Jam...  ...        Sandwich Place\n",
              "1                              Alderwood,Long Branch  ...           Coffee Shop\n",
              "2  Bloordale Gardens,Eringate,Markland Wood,Old B...  ...              Pharmacy\n",
              "3  Cloverdale,Islington,Martin Grove,Princess Gar...  ...                  Café\n",
              "4         Humber Bay Shores,Mimico South,New Toronto  ...  Fast Food Restaurant\n",
              "\n",
              "[5 rows x 6 columns]"
            ]
          },
          "metadata": {
            "tags": []
          },
          "execution_count": 17
        }
      ]
    },
    {
      "cell_type": "markdown",
      "metadata": {
        "id": "tCAT3ABeKrxB",
        "colab_type": "text"
      },
      "source": [
        "**Run k-means to cluster the neighbourhoods in 5 clusters**"
      ]
    },
    {
      "cell_type": "code",
      "metadata": {
        "id": "9yyTzWoi-Ef7",
        "colab_type": "code",
        "colab": {
          "base_uri": "https://localhost:8080/",
          "height": 34
        },
        "outputId": "9a2af119-9696-4f44-d395-4c9bb66afc05"
      },
      "source": [
        "# set number of clusters\n",
        "kclusters = 5\n",
        "\n",
        "etobicoke_venuelist_clustering = etobicoke_venuelist.drop('Neighbourhood', 1)\n",
        "\n",
        "# run k-means clustering\n",
        "kmeans = KMeans(n_clusters=kclusters, random_state=0).fit(etobicoke_venuelist_clustering)\n",
        "\n",
        "# check cluster labels generated for each row in the dataframe\n",
        "kmeans.labels_[0:10]"
      ],
      "execution_count": 18,
      "outputs": [
        {
          "output_type": "execute_result",
          "data": {
            "text/plain": [
              "array([3, 0, 0, 0, 0, 2, 4, 3, 0, 1], dtype=int32)"
            ]
          },
          "metadata": {
            "tags": []
          },
          "execution_count": 18
        }
      ]
    },
    {
      "cell_type": "code",
      "metadata": {
        "id": "3iapdid5Dboe",
        "colab_type": "code",
        "colab": {}
      },
      "source": [
        "e_neighborhoods_venues_sorted.insert(0, 'Clusters', kmeans.labels_)"
      ],
      "execution_count": 0,
      "outputs": []
    },
    {
      "cell_type": "markdown",
      "metadata": {
        "id": "dTjJ9q7AK4FA",
        "colab_type": "text"
      },
      "source": [
        "**Merge the information back into one dataframe for easy analysis and future use**"
      ]
    },
    {
      "cell_type": "code",
      "metadata": {
        "id": "TQnlgKMb-Jsw",
        "colab_type": "code",
        "colab": {
          "base_uri": "https://localhost:8080/",
          "height": 591
        },
        "outputId": "e4fd528e-9817-4092-c7df-66a23d51a236"
      },
      "source": [
        "df_etobicoke_merged = df_etobicoke\n",
        "\n",
        "df_etobicoke_merged = df_etobicoke_merged.join(e_neighborhoods_venues_sorted.set_index('Neighbourhood'), on='Neighbourhood')\n",
        "\n",
        "df_etobicoke_merged.dropna(axis=0,inplace = True)\n",
        "df_etobicoke_merged['Clusters'] = df_etobicoke_merged['Clusters'].astype('int')\n",
        "\n",
        "df_etobicoke_merged"
      ],
      "execution_count": 22,
      "outputs": [
        {
          "output_type": "execute_result",
          "data": {
            "text/html": [
              "<div>\n",
              "<style scoped>\n",
              "    .dataframe tbody tr th:only-of-type {\n",
              "        vertical-align: middle;\n",
              "    }\n",
              "\n",
              "    .dataframe tbody tr th {\n",
              "        vertical-align: top;\n",
              "    }\n",
              "\n",
              "    .dataframe thead th {\n",
              "        text-align: right;\n",
              "    }\n",
              "</style>\n",
              "<table border=\"1\" class=\"dataframe\">\n",
              "  <thead>\n",
              "    <tr style=\"text-align: right;\">\n",
              "      <th></th>\n",
              "      <th>Postcode</th>\n",
              "      <th>Borough</th>\n",
              "      <th>Neighbourhood</th>\n",
              "      <th>Postal Code</th>\n",
              "      <th>Latitude</th>\n",
              "      <th>Longitude</th>\n",
              "      <th>Clusters</th>\n",
              "      <th>1st Most Common Venue</th>\n",
              "      <th>2nd Most Common Venue</th>\n",
              "      <th>3rd Most Common Venue</th>\n",
              "      <th>4th Most Common Venue</th>\n",
              "      <th>5th Most Common Venue</th>\n",
              "    </tr>\n",
              "  </thead>\n",
              "  <tbody>\n",
              "    <tr>\n",
              "      <th>0</th>\n",
              "      <td>M8V</td>\n",
              "      <td>Etobicoke</td>\n",
              "      <td>Humber Bay Shores,Mimico South,New Toronto</td>\n",
              "      <td>M8V</td>\n",
              "      <td>43.605647</td>\n",
              "      <td>-79.501321</td>\n",
              "      <td>0</td>\n",
              "      <td>Café</td>\n",
              "      <td>Mexican Restaurant</td>\n",
              "      <td>Pharmacy</td>\n",
              "      <td>Bus Stop</td>\n",
              "      <td>Fast Food Restaurant</td>\n",
              "    </tr>\n",
              "    <tr>\n",
              "      <th>1</th>\n",
              "      <td>M8W</td>\n",
              "      <td>Etobicoke</td>\n",
              "      <td>Alderwood,Long Branch</td>\n",
              "      <td>M8W</td>\n",
              "      <td>43.602414</td>\n",
              "      <td>-79.543484</td>\n",
              "      <td>0</td>\n",
              "      <td>Pizza Place</td>\n",
              "      <td>Convenience Store</td>\n",
              "      <td>Skating Rink</td>\n",
              "      <td>Donut Shop</td>\n",
              "      <td>Coffee Shop</td>\n",
              "    </tr>\n",
              "    <tr>\n",
              "      <th>2</th>\n",
              "      <td>M8X</td>\n",
              "      <td>Etobicoke</td>\n",
              "      <td>The Kingsway,Montgomery Road,Old Mill North</td>\n",
              "      <td>M8X</td>\n",
              "      <td>43.653654</td>\n",
              "      <td>-79.506944</td>\n",
              "      <td>0</td>\n",
              "      <td>Italian Restaurant</td>\n",
              "      <td>Sushi Restaurant</td>\n",
              "      <td>Bakery</td>\n",
              "      <td>Park</td>\n",
              "      <td>Breakfast Spot</td>\n",
              "    </tr>\n",
              "    <tr>\n",
              "      <th>3</th>\n",
              "      <td>M8Y</td>\n",
              "      <td>Etobicoke</td>\n",
              "      <td>Humber Bay,King's Mill Park,Kingsway Park Sout...</td>\n",
              "      <td>M8Y</td>\n",
              "      <td>43.636258</td>\n",
              "      <td>-79.498509</td>\n",
              "      <td>2</td>\n",
              "      <td>Gym / Fitness Center</td>\n",
              "      <td>Construction &amp; Landscaping</td>\n",
              "      <td>Park</td>\n",
              "      <td>Baseball Field</td>\n",
              "      <td>Yoga Studio</td>\n",
              "    </tr>\n",
              "    <tr>\n",
              "      <th>4</th>\n",
              "      <td>M8Z</td>\n",
              "      <td>Etobicoke</td>\n",
              "      <td>Kingsway Park South West,Mimico NW,The Queensw...</td>\n",
              "      <td>M8Z</td>\n",
              "      <td>43.628841</td>\n",
              "      <td>-79.520999</td>\n",
              "      <td>0</td>\n",
              "      <td>Coffee Shop</td>\n",
              "      <td>Burrito Place</td>\n",
              "      <td>Gym / Fitness Center</td>\n",
              "      <td>American Restaurant</td>\n",
              "      <td>BBQ Joint</td>\n",
              "    </tr>\n",
              "    <tr>\n",
              "      <th>5</th>\n",
              "      <td>M9A</td>\n",
              "      <td>Etobicoke</td>\n",
              "      <td>Islington Avenue</td>\n",
              "      <td>M9A</td>\n",
              "      <td>43.667856</td>\n",
              "      <td>-79.532242</td>\n",
              "      <td>4</td>\n",
              "      <td>Pharmacy</td>\n",
              "      <td>Café</td>\n",
              "      <td>Bank</td>\n",
              "      <td>Playground</td>\n",
              "      <td>Skating Rink</td>\n",
              "    </tr>\n",
              "    <tr>\n",
              "      <th>6</th>\n",
              "      <td>M9B</td>\n",
              "      <td>Etobicoke</td>\n",
              "      <td>Cloverdale,Islington,Martin Grove,Princess Gar...</td>\n",
              "      <td>M9B</td>\n",
              "      <td>43.650943</td>\n",
              "      <td>-79.554724</td>\n",
              "      <td>0</td>\n",
              "      <td>Pizza Place</td>\n",
              "      <td>Bank</td>\n",
              "      <td>Convenience Store</td>\n",
              "      <td>Hotel</td>\n",
              "      <td>Café</td>\n",
              "    </tr>\n",
              "    <tr>\n",
              "      <th>7</th>\n",
              "      <td>M9C</td>\n",
              "      <td>Etobicoke</td>\n",
              "      <td>Bloordale Gardens,Eringate,Markland Wood,Old B...</td>\n",
              "      <td>M9C</td>\n",
              "      <td>43.643515</td>\n",
              "      <td>-79.577201</td>\n",
              "      <td>0</td>\n",
              "      <td>Coffee Shop</td>\n",
              "      <td>Park</td>\n",
              "      <td>Pizza Place</td>\n",
              "      <td>Beer Store</td>\n",
              "      <td>Pharmacy</td>\n",
              "    </tr>\n",
              "    <tr>\n",
              "      <th>8</th>\n",
              "      <td>M9P</td>\n",
              "      <td>Etobicoke</td>\n",
              "      <td>Westmount</td>\n",
              "      <td>M9P</td>\n",
              "      <td>43.696319</td>\n",
              "      <td>-79.532242</td>\n",
              "      <td>3</td>\n",
              "      <td>Pizza Place</td>\n",
              "      <td>Sandwich Place</td>\n",
              "      <td>Ice Cream Shop</td>\n",
              "      <td>Intersection</td>\n",
              "      <td>Discount Store</td>\n",
              "    </tr>\n",
              "    <tr>\n",
              "      <th>9</th>\n",
              "      <td>M9R</td>\n",
              "      <td>Etobicoke</td>\n",
              "      <td>Kingsview Village,Martin Grove Gardens,Richvie...</td>\n",
              "      <td>M9R</td>\n",
              "      <td>43.688905</td>\n",
              "      <td>-79.554724</td>\n",
              "      <td>3</td>\n",
              "      <td>Pharmacy</td>\n",
              "      <td>Beer Store</td>\n",
              "      <td>Chinese Restaurant</td>\n",
              "      <td>Coffee Shop</td>\n",
              "      <td>Pizza Place</td>\n",
              "    </tr>\n",
              "    <tr>\n",
              "      <th>10</th>\n",
              "      <td>M9V</td>\n",
              "      <td>Etobicoke</td>\n",
              "      <td>Albion Gardens,Beaumond Heights,Humbergate,Jam...</td>\n",
              "      <td>M9V</td>\n",
              "      <td>43.739416</td>\n",
              "      <td>-79.588437</td>\n",
              "      <td>3</td>\n",
              "      <td>Pizza Place</td>\n",
              "      <td>Grocery Store</td>\n",
              "      <td>Fast Food Restaurant</td>\n",
              "      <td>Coffee Shop</td>\n",
              "      <td>Sandwich Place</td>\n",
              "    </tr>\n",
              "    <tr>\n",
              "      <th>11</th>\n",
              "      <td>M9W</td>\n",
              "      <td>Etobicoke</td>\n",
              "      <td>Northwest</td>\n",
              "      <td>M9W</td>\n",
              "      <td>43.706748</td>\n",
              "      <td>-79.594054</td>\n",
              "      <td>1</td>\n",
              "      <td>Rental Car Location</td>\n",
              "      <td>Hotel</td>\n",
              "      <td>Yoga Studio</td>\n",
              "      <td>Donut Shop</td>\n",
              "      <td>Coffee Shop</td>\n",
              "    </tr>\n",
              "  </tbody>\n",
              "</table>\n",
              "</div>"
            ],
            "text/plain": [
              "   Postcode    Borough  ... 4th Most Common Venue 5th Most Common Venue\n",
              "0       M8V  Etobicoke  ...              Bus Stop  Fast Food Restaurant\n",
              "1       M8W  Etobicoke  ...            Donut Shop           Coffee Shop\n",
              "2       M8X  Etobicoke  ...                  Park        Breakfast Spot\n",
              "3       M8Y  Etobicoke  ...        Baseball Field           Yoga Studio\n",
              "4       M8Z  Etobicoke  ...   American Restaurant             BBQ Joint\n",
              "5       M9A  Etobicoke  ...            Playground          Skating Rink\n",
              "6       M9B  Etobicoke  ...                 Hotel                  Café\n",
              "7       M9C  Etobicoke  ...            Beer Store              Pharmacy\n",
              "8       M9P  Etobicoke  ...          Intersection        Discount Store\n",
              "9       M9R  Etobicoke  ...           Coffee Shop           Pizza Place\n",
              "10      M9V  Etobicoke  ...           Coffee Shop        Sandwich Place\n",
              "11      M9W  Etobicoke  ...            Donut Shop           Coffee Shop\n",
              "\n",
              "[12 rows x 12 columns]"
            ]
          },
          "metadata": {
            "tags": []
          },
          "execution_count": 22
        }
      ]
    },
    {
      "cell_type": "markdown",
      "metadata": {
        "id": "1IPhx1coLDI-",
        "colab_type": "text"
      },
      "source": [
        "**Visualize the Results**"
      ]
    },
    {
      "cell_type": "code",
      "metadata": {
        "id": "ty0PH2xu-NJ4",
        "colab_type": "code",
        "colab": {
          "base_uri": "https://localhost:8080/",
          "height": 895
        },
        "outputId": "e8756154-d285-409c-ccd4-caf69e1afd2a"
      },
      "source": [
        "\n",
        "# create map\n",
        "map_clusters = folium.Map(location=[e_lat, e_long], zoom_start=11)\n",
        "\n",
        "# set color scheme for the clusters\n",
        "x = np.arange(kclusters)\n",
        "ys = [i + x + (i*x)**2 for i in range(kclusters)]\n",
        "colors_array = cm.rainbow(np.linspace(0, 1, len(ys)))\n",
        "rainbow = [colors.rgb2hex(i) for i in colors_array]\n",
        "\n",
        "# add markers to the map\n",
        "markers_colors = []\n",
        "for lat, lon, poi, cluster in zip(df_etobicoke_merged['Latitude'], df_etobicoke_merged['Longitude'], df_etobicoke_merged['Neighbourhood'],df_etobicoke_merged['Clusters']):\n",
        "    label = folium.Popup(str(poi) + ' Cluster ' + str(cluster), parse_html=True)\n",
        "    folium.CircleMarker(\n",
        "        [lat, lon],\n",
        "        radius=5,\n",
        "        popup=label,\n",
        "        color=rainbow[cluster-1],\n",
        "        fill=True,\n",
        "        fill_color=rainbow[cluster-1],\n",
        "        fill_opacity=0.7).add_to(map_clusters)\n",
        "       \n",
        "map_clusters"
      ],
      "execution_count": 23,
      "outputs": [
        {
          "output_type": "execute_result",
          "data": {
            "text/html": [
              "<div style=\"width:100%;\"><div style=\"position:relative;width:100%;height:0;padding-bottom:60%;\"><iframe src=\"data:text/html;charset=utf-8;base64,PCFET0NUWVBFIGh0bWw+CjxoZWFkPiAgICAKICAgIDxtZXRhIGh0dHAtZXF1aXY9ImNvbnRlbnQtdHlwZSIgY29udGVudD0idGV4dC9odG1sOyBjaGFyc2V0PVVURi04IiAvPgogICAgPHNjcmlwdD5MX1BSRUZFUl9DQU5WQVM9ZmFsc2U7IExfTk9fVE9VQ0g9ZmFsc2U7IExfRElTQUJMRV8zRD1mYWxzZTs8L3NjcmlwdD4KICAgIDxzY3JpcHQgc3JjPSJodHRwczovL2Nkbi5qc2RlbGl2ci5uZXQvbnBtL2xlYWZsZXRAMS40LjAvZGlzdC9sZWFmbGV0LmpzIj48L3NjcmlwdD4KICAgIDxzY3JpcHQgc3JjPSJodHRwczovL2NvZGUuanF1ZXJ5LmNvbS9qcXVlcnktMS4xMi40Lm1pbi5qcyI+PC9zY3JpcHQ+CiAgICA8c2NyaXB0IHNyYz0iaHR0cHM6Ly9tYXhjZG4uYm9vdHN0cmFwY2RuLmNvbS9ib290c3RyYXAvMy4yLjAvanMvYm9vdHN0cmFwLm1pbi5qcyI+PC9zY3JpcHQ+CiAgICA8c2NyaXB0IHNyYz0iaHR0cHM6Ly9jZG5qcy5jbG91ZGZsYXJlLmNvbS9hamF4L2xpYnMvTGVhZmxldC5hd2Vzb21lLW1hcmtlcnMvMi4wLjIvbGVhZmxldC5hd2Vzb21lLW1hcmtlcnMuanMiPjwvc2NyaXB0PgogICAgPGxpbmsgcmVsPSJzdHlsZXNoZWV0IiBocmVmPSJodHRwczovL2Nkbi5qc2RlbGl2ci5uZXQvbnBtL2xlYWZsZXRAMS40LjAvZGlzdC9sZWFmbGV0LmNzcyIvPgogICAgPGxpbmsgcmVsPSJzdHlsZXNoZWV0IiBocmVmPSJodHRwczovL21heGNkbi5ib290c3RyYXBjZG4uY29tL2Jvb3RzdHJhcC8zLjIuMC9jc3MvYm9vdHN0cmFwLm1pbi5jc3MiLz4KICAgIDxsaW5rIHJlbD0ic3R5bGVzaGVldCIgaHJlZj0iaHR0cHM6Ly9tYXhjZG4uYm9vdHN0cmFwY2RuLmNvbS9ib290c3RyYXAvMy4yLjAvY3NzL2Jvb3RzdHJhcC10aGVtZS5taW4uY3NzIi8+CiAgICA8bGluayByZWw9InN0eWxlc2hlZXQiIGhyZWY9Imh0dHBzOi8vbWF4Y2RuLmJvb3RzdHJhcGNkbi5jb20vZm9udC1hd2Vzb21lLzQuNi4zL2Nzcy9mb250LWF3ZXNvbWUubWluLmNzcyIvPgogICAgPGxpbmsgcmVsPSJzdHlsZXNoZWV0IiBocmVmPSJodHRwczovL2NkbmpzLmNsb3VkZmxhcmUuY29tL2FqYXgvbGlicy9MZWFmbGV0LmF3ZXNvbWUtbWFya2Vycy8yLjAuMi9sZWFmbGV0LmF3ZXNvbWUtbWFya2Vycy5jc3MiLz4KICAgIDxsaW5rIHJlbD0ic3R5bGVzaGVldCIgaHJlZj0iaHR0cHM6Ly9yYXdjZG4uZ2l0aGFjay5jb20vcHl0aG9uLXZpc3VhbGl6YXRpb24vZm9saXVtL21hc3Rlci9mb2xpdW0vdGVtcGxhdGVzL2xlYWZsZXQuYXdlc29tZS5yb3RhdGUuY3NzIi8+CiAgICA8c3R5bGU+aHRtbCwgYm9keSB7d2lkdGg6IDEwMCU7aGVpZ2h0OiAxMDAlO21hcmdpbjogMDtwYWRkaW5nOiAwO308L3N0eWxlPgogICAgPHN0eWxlPiNtYXAge3Bvc2l0aW9uOmFic29sdXRlO3RvcDowO2JvdHRvbTowO3JpZ2h0OjA7bGVmdDowO308L3N0eWxlPgogICAgCiAgICA8bWV0YSBuYW1lPSJ2aWV3cG9ydCIgY29udGVudD0id2lkdGg9ZGV2aWNlLXdpZHRoLAogICAgICAgIGluaXRpYWwtc2NhbGU9MS4wLCBtYXhpbXVtLXNjYWxlPTEuMCwgdXNlci1zY2FsYWJsZT1ubyIgLz4KICAgIDxzdHlsZT4jbWFwXzg3YmQ3NTc0OTA3ZDQ4NTJhYWNkZWE5ZTYyNjcyYWJlIHsKICAgICAgICBwb3NpdGlvbjogcmVsYXRpdmU7CiAgICAgICAgd2lkdGg6IDEwMC4wJTsKICAgICAgICBoZWlnaHQ6IDEwMC4wJTsKICAgICAgICBsZWZ0OiAwLjAlOwogICAgICAgIHRvcDogMC4wJTsKICAgICAgICB9CiAgICA8L3N0eWxlPgo8L2hlYWQ+Cjxib2R5PiAgICAKICAgIAogICAgPGRpdiBjbGFzcz0iZm9saXVtLW1hcCIgaWQ9Im1hcF84N2JkNzU3NDkwN2Q0ODUyYWFjZGVhOWU2MjY3MmFiZSIgPjwvZGl2Pgo8L2JvZHk+CjxzY3JpcHQ+ICAgIAogICAgCiAgICAKICAgICAgICB2YXIgYm91bmRzID0gbnVsbDsKICAgIAoKICAgIHZhciBtYXBfODdiZDc1NzQ5MDdkNDg1MmFhY2RlYTllNjI2NzJhYmUgPSBMLm1hcCgKICAgICAgICAnbWFwXzg3YmQ3NTc0OTA3ZDQ4NTJhYWNkZWE5ZTYyNjcyYWJlJywgewogICAgICAgIGNlbnRlcjogWzQzLjYyLCAtNzkuNTFdLAogICAgICAgIHpvb206IDExLAogICAgICAgIG1heEJvdW5kczogYm91bmRzLAogICAgICAgIGxheWVyczogW10sCiAgICAgICAgd29ybGRDb3B5SnVtcDogZmFsc2UsCiAgICAgICAgY3JzOiBMLkNSUy5FUFNHMzg1NywKICAgICAgICB6b29tQ29udHJvbDogdHJ1ZSwKICAgICAgICB9KTsKCgogICAgCiAgICB2YXIgdGlsZV9sYXllcl9iZDI5M2EzZjE0MmE0NjM5OWE5NDUwOTQ3Yjg3ZDI2OSA9IEwudGlsZUxheWVyKAogICAgICAgICdodHRwczovL3tzfS50aWxlLm9wZW5zdHJlZXRtYXAub3JnL3t6fS97eH0ve3l9LnBuZycsCiAgICAgICAgewogICAgICAgICJhdHRyaWJ1dGlvbiI6IG51bGwsCiAgICAgICAgImRldGVjdFJldGluYSI6IGZhbHNlLAogICAgICAgICJtYXhOYXRpdmVab29tIjogMTgsCiAgICAgICAgIm1heFpvb20iOiAxOCwKICAgICAgICAibWluWm9vbSI6IDAsCiAgICAgICAgIm5vV3JhcCI6IGZhbHNlLAogICAgICAgICJvcGFjaXR5IjogMSwKICAgICAgICAic3ViZG9tYWlucyI6ICJhYmMiLAogICAgICAgICJ0bXMiOiBmYWxzZQp9KS5hZGRUbyhtYXBfODdiZDc1NzQ5MDdkNDg1MmFhY2RlYTllNjI2NzJhYmUpOwogICAgCiAgICAgICAgICAgIHZhciBjaXJjbGVfbWFya2VyX2RhNGI1MTVkMDZmYTQyNjg5YWUzYmEwM2M4YjA5NGQzID0gTC5jaXJjbGVNYXJrZXIoCiAgICAgICAgICAgICAgICBbNDMuNjA1NjQ2NiwgLTc5LjUwMTMyMDcwMDAwMDAxXSwKICAgICAgICAgICAgICAgIHsKICAiYnViYmxpbmdNb3VzZUV2ZW50cyI6IHRydWUsCiAgImNvbG9yIjogIiNmZjAwMDAiLAogICJkYXNoQXJyYXkiOiBudWxsLAogICJkYXNoT2Zmc2V0IjogbnVsbCwKICAiZmlsbCI6IHRydWUsCiAgImZpbGxDb2xvciI6ICIjZmYwMDAwIiwKICAiZmlsbE9wYWNpdHkiOiAwLjcsCiAgImZpbGxSdWxlIjogImV2ZW5vZGQiLAogICJsaW5lQ2FwIjogInJvdW5kIiwKICAibGluZUpvaW4iOiAicm91bmQiLAogICJvcGFjaXR5IjogMS4wLAogICJyYWRpdXMiOiA1LAogICJzdHJva2UiOiB0cnVlLAogICJ3ZWlnaHQiOiAzCn0KICAgICAgICAgICAgICAgICkKICAgICAgICAgICAgICAgIC5hZGRUbyhtYXBfODdiZDc1NzQ5MDdkNDg1MmFhY2RlYTllNjI2NzJhYmUpOwogICAgICAgICAgICAKICAgIAogICAgICAgICAgICB2YXIgcG9wdXBfNGM0ZDdhNmU3ZTM1NGQ5MGEzYjU4YjY4OTRhNjQxYWUgPSBMLnBvcHVwKHttYXhXaWR0aDogJzEwMCUnCiAgICAgICAgICAgIAogICAgICAgICAgICB9KTsKCiAgICAgICAgICAgIAogICAgICAgICAgICAgICAgdmFyIGh0bWxfYmNlNWEzYzUzOWEwNDY3YWI0NDZmMmY2NTFlZTU4NDAgPSAkKGA8ZGl2IGlkPSJodG1sX2JjZTVhM2M1MzlhMDQ2N2FiNDQ2ZjJmNjUxZWU1ODQwIiBzdHlsZT0id2lkdGg6IDEwMC4wJTsgaGVpZ2h0OiAxMDAuMCU7Ij5IdW1iZXIgQmF5IFNob3JlcyxNaW1pY28gU291dGgsTmV3IFRvcm9udG8gQ2x1c3RlciAwPC9kaXY+YClbMF07CiAgICAgICAgICAgICAgICBwb3B1cF80YzRkN2E2ZTdlMzU0ZDkwYTNiNThiNjg5NGE2NDFhZS5zZXRDb250ZW50KGh0bWxfYmNlNWEzYzUzOWEwNDY3YWI0NDZmMmY2NTFlZTU4NDApOwogICAgICAgICAgICAKCiAgICAgICAgICAgIGNpcmNsZV9tYXJrZXJfZGE0YjUxNWQwNmZhNDI2ODlhZTNiYTAzYzhiMDk0ZDMuYmluZFBvcHVwKHBvcHVwXzRjNGQ3YTZlN2UzNTRkOTBhM2I1OGI2ODk0YTY0MWFlKQogICAgICAgICAgICA7CgogICAgICAgICAgICAKICAgICAgICAKICAgIAogICAgICAgICAgICB2YXIgY2lyY2xlX21hcmtlcl9iY2I1NDQwMmVlNTc0MTk5ODliOTE4NmM2Zjg0MGRhZiA9IEwuY2lyY2xlTWFya2VyKAogICAgICAgICAgICAgICAgWzQzLjYwMjQxMzcwMDAwMDAxLCAtNzkuNTQzNDg0MDk5OTk5OTldLAogICAgICAgICAgICAgICAgewogICJidWJibGluZ01vdXNlRXZlbnRzIjogdHJ1ZSwKICAiY29sb3IiOiAiI2ZmMDAwMCIsCiAgImRhc2hBcnJheSI6IG51bGwsCiAgImRhc2hPZmZzZXQiOiBudWxsLAogICJmaWxsIjogdHJ1ZSwKICAiZmlsbENvbG9yIjogIiNmZjAwMDAiLAogICJmaWxsT3BhY2l0eSI6IDAuNywKICAiZmlsbFJ1bGUiOiAiZXZlbm9kZCIsCiAgImxpbmVDYXAiOiAicm91bmQiLAogICJsaW5lSm9pbiI6ICJyb3VuZCIsCiAgIm9wYWNpdHkiOiAxLjAsCiAgInJhZGl1cyI6IDUsCiAgInN0cm9rZSI6IHRydWUsCiAgIndlaWdodCI6IDMKfQogICAgICAgICAgICAgICAgKQogICAgICAgICAgICAgICAgLmFkZFRvKG1hcF84N2JkNzU3NDkwN2Q0ODUyYWFjZGVhOWU2MjY3MmFiZSk7CiAgICAgICAgICAgIAogICAgCiAgICAgICAgICAgIHZhciBwb3B1cF80ZDI4YjVjNWRmZmY0OTcwYTE4ZTJiOTQyNWExY2UwMCA9IEwucG9wdXAoe21heFdpZHRoOiAnMTAwJScKICAgICAgICAgICAgCiAgICAgICAgICAgIH0pOwoKICAgICAgICAgICAgCiAgICAgICAgICAgICAgICB2YXIgaHRtbF8yM2Q5ODljZjNmZTQ0YTk4YjU0NGIzZjFiNTIwMmYwNyA9ICQoYDxkaXYgaWQ9Imh0bWxfMjNkOTg5Y2YzZmU0NGE5OGI1NDRiM2YxYjUyMDJmMDciIHN0eWxlPSJ3aWR0aDogMTAwLjAlOyBoZWlnaHQ6IDEwMC4wJTsiPkFsZGVyd29vZCxMb25nIEJyYW5jaCBDbHVzdGVyIDA8L2Rpdj5gKVswXTsKICAgICAgICAgICAgICAgIHBvcHVwXzRkMjhiNWM1ZGZmZjQ5NzBhMThlMmI5NDI1YTFjZTAwLnNldENvbnRlbnQoaHRtbF8yM2Q5ODljZjNmZTQ0YTk4YjU0NGIzZjFiNTIwMmYwNyk7CiAgICAgICAgICAgIAoKICAgICAgICAgICAgY2lyY2xlX21hcmtlcl9iY2I1NDQwMmVlNTc0MTk5ODliOTE4NmM2Zjg0MGRhZi5iaW5kUG9wdXAocG9wdXBfNGQyOGI1YzVkZmZmNDk3MGExOGUyYjk0MjVhMWNlMDApCiAgICAgICAgICAgIDsKCiAgICAgICAgICAgIAogICAgICAgIAogICAgCiAgICAgICAgICAgIHZhciBjaXJjbGVfbWFya2VyX2E1ZDFhZDViY2Y3MzQzMzVhNmM2YmYzNzg3OTQ4Mzk4ID0gTC5jaXJjbGVNYXJrZXIoCiAgICAgICAgICAgICAgICBbNDMuNjUzNjUzNjAwMDAwMDA1LCAtNzkuNTA2OTQzNl0sCiAgICAgICAgICAgICAgICB7CiAgImJ1YmJsaW5nTW91c2VFdmVudHMiOiB0cnVlLAogICJjb2xvciI6ICIjZmYwMDAwIiwKICAiZGFzaEFycmF5IjogbnVsbCwKICAiZGFzaE9mZnNldCI6IG51bGwsCiAgImZpbGwiOiB0cnVlLAogICJmaWxsQ29sb3IiOiAiI2ZmMDAwMCIsCiAgImZpbGxPcGFjaXR5IjogMC43LAogICJmaWxsUnVsZSI6ICJldmVub2RkIiwKICAibGluZUNhcCI6ICJyb3VuZCIsCiAgImxpbmVKb2luIjogInJvdW5kIiwKICAib3BhY2l0eSI6IDEuMCwKICAicmFkaXVzIjogNSwKICAic3Ryb2tlIjogdHJ1ZSwKICAid2VpZ2h0IjogMwp9CiAgICAgICAgICAgICAgICApCiAgICAgICAgICAgICAgICAuYWRkVG8obWFwXzg3YmQ3NTc0OTA3ZDQ4NTJhYWNkZWE5ZTYyNjcyYWJlKTsKICAgICAgICAgICAgCiAgICAKICAgICAgICAgICAgdmFyIHBvcHVwXzA0M2FlODQ2NjBiMDQxOTQ5NjNmNDlhOGNkNDAxZGU3ID0gTC5wb3B1cCh7bWF4V2lkdGg6ICcxMDAlJwogICAgICAgICAgICAKICAgICAgICAgICAgfSk7CgogICAgICAgICAgICAKICAgICAgICAgICAgICAgIHZhciBodG1sXzI1NmZmMmI1OGJjNjQzOGQ5YzgzNzFlZDkzZTY4YzE0ID0gJChgPGRpdiBpZD0iaHRtbF8yNTZmZjJiNThiYzY0MzhkOWM4MzcxZWQ5M2U2OGMxNCIgc3R5bGU9IndpZHRoOiAxMDAuMCU7IGhlaWdodDogMTAwLjAlOyI+VGhlIEtpbmdzd2F5LE1vbnRnb21lcnkgUm9hZCxPbGQgTWlsbCBOb3J0aCBDbHVzdGVyIDA8L2Rpdj5gKVswXTsKICAgICAgICAgICAgICAgIHBvcHVwXzA0M2FlODQ2NjBiMDQxOTQ5NjNmNDlhOGNkNDAxZGU3LnNldENvbnRlbnQoaHRtbF8yNTZmZjJiNThiYzY0MzhkOWM4MzcxZWQ5M2U2OGMxNCk7CiAgICAgICAgICAgIAoKICAgICAgICAgICAgY2lyY2xlX21hcmtlcl9hNWQxYWQ1YmNmNzM0MzM1YTZjNmJmMzc4Nzk0ODM5OC5iaW5kUG9wdXAocG9wdXBfMDQzYWU4NDY2MGIwNDE5NDk2M2Y0OWE4Y2Q0MDFkZTcpCiAgICAgICAgICAgIDsKCiAgICAgICAgICAgIAogICAgICAgIAogICAgCiAgICAgICAgICAgIHZhciBjaXJjbGVfbWFya2VyXzk1NTJkYTQ3YjBmMjQyNWRhNDlhMTEzYWNiNzgxYzVhID0gTC5jaXJjbGVNYXJrZXIoCiAgICAgICAgICAgICAgICBbNDMuNjM2MjU3OSwgLTc5LjQ5ODUwOTA5OTk5OTk5XSwKICAgICAgICAgICAgICAgIHsKICAiYnViYmxpbmdNb3VzZUV2ZW50cyI6IHRydWUsCiAgImNvbG9yIjogIiMwMGI1ZWIiLAogICJkYXNoQXJyYXkiOiBudWxsLAogICJkYXNoT2Zmc2V0IjogbnVsbCwKICAiZmlsbCI6IHRydWUsCiAgImZpbGxDb2xvciI6ICIjMDBiNWViIiwKICAiZmlsbE9wYWNpdHkiOiAwLjcsCiAgImZpbGxSdWxlIjogImV2ZW5vZGQiLAogICJsaW5lQ2FwIjogInJvdW5kIiwKICAibGluZUpvaW4iOiAicm91bmQiLAogICJvcGFjaXR5IjogMS4wLAogICJyYWRpdXMiOiA1LAogICJzdHJva2UiOiB0cnVlLAogICJ3ZWlnaHQiOiAzCn0KICAgICAgICAgICAgICAgICkKICAgICAgICAgICAgICAgIC5hZGRUbyhtYXBfODdiZDc1NzQ5MDdkNDg1MmFhY2RlYTllNjI2NzJhYmUpOwogICAgICAgICAgICAKICAgIAogICAgICAgICAgICB2YXIgcG9wdXBfY2Y2OTQ5OGEzODlmNDQwNDk1MTYwZjIxNTA3NGM2NDIgPSBMLnBvcHVwKHttYXhXaWR0aDogJzEwMCUnCiAgICAgICAgICAgIAogICAgICAgICAgICB9KTsKCiAgICAgICAgICAgIAogICAgICAgICAgICAgICAgdmFyIGh0bWxfZDI1YWE3Njc3ZDIyNDViNzhmNGI3MDk2NDZhNDA3NzggPSAkKGA8ZGl2IGlkPSJodG1sX2QyNWFhNzY3N2QyMjQ1Yjc4ZjRiNzA5NjQ2YTQwNzc4IiBzdHlsZT0id2lkdGg6IDEwMC4wJTsgaGVpZ2h0OiAxMDAuMCU7Ij5IdW1iZXIgQmF5LEtpbmcmIzM5O3MgTWlsbCBQYXJrLEtpbmdzd2F5IFBhcmsgU291dGggRWFzdCxNaW1pY28gTkUsT2xkIE1pbGwgU291dGgsVGhlIFF1ZWVuc3dheSBFYXN0LFJveWFsIFlvcmsgU291dGggRWFzdCxTdW5ueWxlYSBDbHVzdGVyIDI8L2Rpdj5gKVswXTsKICAgICAgICAgICAgICAgIHBvcHVwX2NmNjk0OThhMzg5ZjQ0MDQ5NTE2MGYyMTUwNzRjNjQyLnNldENvbnRlbnQoaHRtbF9kMjVhYTc2NzdkMjI0NWI3OGY0YjcwOTY0NmE0MDc3OCk7CiAgICAgICAgICAgIAoKICAgICAgICAgICAgY2lyY2xlX21hcmtlcl85NTUyZGE0N2IwZjI0MjVkYTQ5YTExM2FjYjc4MWM1YS5iaW5kUG9wdXAocG9wdXBfY2Y2OTQ5OGEzODlmNDQwNDk1MTYwZjIxNTA3NGM2NDIpCiAgICAgICAgICAgIDsKCiAgICAgICAgICAgIAogICAgICAgIAogICAgCiAgICAgICAgICAgIHZhciBjaXJjbGVfbWFya2VyXzYxYTNmYzhmNjU5NzRhYTk4OTkwZmQ3ODg0Nzc4NDViID0gTC5jaXJjbGVNYXJrZXIoCiAgICAgICAgICAgICAgICBbNDMuNjI4ODQwOCwgLTc5LjUyMDk5OTQwMDAwMDAxXSwKICAgICAgICAgICAgICAgIHsKICAiYnViYmxpbmdNb3VzZUV2ZW50cyI6IHRydWUsCiAgImNvbG9yIjogIiNmZjAwMDAiLAogICJkYXNoQXJyYXkiOiBudWxsLAogICJkYXNoT2Zmc2V0IjogbnVsbCwKICAiZmlsbCI6IHRydWUsCiAgImZpbGxDb2xvciI6ICIjZmYwMDAwIiwKICAiZmlsbE9wYWNpdHkiOiAwLjcsCiAgImZpbGxSdWxlIjogImV2ZW5vZGQiLAogICJsaW5lQ2FwIjogInJvdW5kIiwKICAibGluZUpvaW4iOiAicm91bmQiLAogICJvcGFjaXR5IjogMS4wLAogICJyYWRpdXMiOiA1LAogICJzdHJva2UiOiB0cnVlLAogICJ3ZWlnaHQiOiAzCn0KICAgICAgICAgICAgICAgICkKICAgICAgICAgICAgICAgIC5hZGRUbyhtYXBfODdiZDc1NzQ5MDdkNDg1MmFhY2RlYTllNjI2NzJhYmUpOwogICAgICAgICAgICAKICAgIAogICAgICAgICAgICB2YXIgcG9wdXBfMzk1NDhiNmJiMWJhNDYxZTg1NTg1MmY5ZWY4NWZjZWEgPSBMLnBvcHVwKHttYXhXaWR0aDogJzEwMCUnCiAgICAgICAgICAgIAogICAgICAgICAgICB9KTsKCiAgICAgICAgICAgIAogICAgICAgICAgICAgICAgdmFyIGh0bWxfZmUxYTM4NjUyMjlmNGFhNTgzZjkzOTU2NDI5NWMwNDMgPSAkKGA8ZGl2IGlkPSJodG1sX2ZlMWEzODY1MjI5ZjRhYTU4M2Y5Mzk1NjQyOTVjMDQzIiBzdHlsZT0id2lkdGg6IDEwMC4wJTsgaGVpZ2h0OiAxMDAuMCU7Ij5LaW5nc3dheSBQYXJrIFNvdXRoIFdlc3QsTWltaWNvIE5XLFRoZSBRdWVlbnN3YXkgV2VzdCxSb3lhbCBZb3JrIFNvdXRoIFdlc3QsU291dGggb2YgQmxvb3IgQ2x1c3RlciAwPC9kaXY+YClbMF07CiAgICAgICAgICAgICAgICBwb3B1cF8zOTU0OGI2YmIxYmE0NjFlODU1ODUyZjllZjg1ZmNlYS5zZXRDb250ZW50KGh0bWxfZmUxYTM4NjUyMjlmNGFhNTgzZjkzOTU2NDI5NWMwNDMpOwogICAgICAgICAgICAKCiAgICAgICAgICAgIGNpcmNsZV9tYXJrZXJfNjFhM2ZjOGY2NTk3NGFhOTg5OTBmZDc4ODQ3Nzg0NWIuYmluZFBvcHVwKHBvcHVwXzM5NTQ4YjZiYjFiYTQ2MWU4NTU4NTJmOWVmODVmY2VhKQogICAgICAgICAgICA7CgogICAgICAgICAgICAKICAgICAgICAKICAgIAogICAgICAgICAgICB2YXIgY2lyY2xlX21hcmtlcl8zNzY0MzNiMzNlZTU0MWEyOGJiOGFlYjA4ZTc3YTE3NCA9IEwuY2lyY2xlTWFya2VyKAogICAgICAgICAgICAgICAgWzQzLjY2Nzg1NTYsIC03OS41MzIyNDI0MDAwMDAwMl0sCiAgICAgICAgICAgICAgICB7CiAgImJ1YmJsaW5nTW91c2VFdmVudHMiOiB0cnVlLAogICJjb2xvciI6ICIjZmZiMzYwIiwKICAiZGFzaEFycmF5IjogbnVsbCwKICAiZGFzaE9mZnNldCI6IG51bGwsCiAgImZpbGwiOiB0cnVlLAogICJmaWxsQ29sb3IiOiAiI2ZmYjM2MCIsCiAgImZpbGxPcGFjaXR5IjogMC43LAogICJmaWxsUnVsZSI6ICJldmVub2RkIiwKICAibGluZUNhcCI6ICJyb3VuZCIsCiAgImxpbmVKb2luIjogInJvdW5kIiwKICAib3BhY2l0eSI6IDEuMCwKICAicmFkaXVzIjogNSwKICAic3Ryb2tlIjogdHJ1ZSwKICAid2VpZ2h0IjogMwp9CiAgICAgICAgICAgICAgICApCiAgICAgICAgICAgICAgICAuYWRkVG8obWFwXzg3YmQ3NTc0OTA3ZDQ4NTJhYWNkZWE5ZTYyNjcyYWJlKTsKICAgICAgICAgICAgCiAgICAKICAgICAgICAgICAgdmFyIHBvcHVwXzU2MTFiNGRhZTgzZTRjOGZiNmViZDY1MmM1OWNlZDlhID0gTC5wb3B1cCh7bWF4V2lkdGg6ICcxMDAlJwogICAgICAgICAgICAKICAgICAgICAgICAgfSk7CgogICAgICAgICAgICAKICAgICAgICAgICAgICAgIHZhciBodG1sXzNmODk3ZGY4MDY0OTQ1N2Y4NTNmYTUyMGYxNzk2YzRhID0gJChgPGRpdiBpZD0iaHRtbF8zZjg5N2RmODA2NDk0NTdmODUzZmE1MjBmMTc5NmM0YSIgc3R5bGU9IndpZHRoOiAxMDAuMCU7IGhlaWdodDogMTAwLjAlOyI+SXNsaW5ndG9uIEF2ZW51ZSBDbHVzdGVyIDQ8L2Rpdj5gKVswXTsKICAgICAgICAgICAgICAgIHBvcHVwXzU2MTFiNGRhZTgzZTRjOGZiNmViZDY1MmM1OWNlZDlhLnNldENvbnRlbnQoaHRtbF8zZjg5N2RmODA2NDk0NTdmODUzZmE1MjBmMTc5NmM0YSk7CiAgICAgICAgICAgIAoKICAgICAgICAgICAgY2lyY2xlX21hcmtlcl8zNzY0MzNiMzNlZTU0MWEyOGJiOGFlYjA4ZTc3YTE3NC5iaW5kUG9wdXAocG9wdXBfNTYxMWI0ZGFlODNlNGM4ZmI2ZWJkNjUyYzU5Y2VkOWEpCiAgICAgICAgICAgIDsKCiAgICAgICAgICAgIAogICAgICAgIAogICAgCiAgICAgICAgICAgIHZhciBjaXJjbGVfbWFya2VyX2FmMjdkNWVjMGU1YTRjYjBiMjU1OGE5YjE0NmIwZjgzID0gTC5jaXJjbGVNYXJrZXIoCiAgICAgICAgICAgICAgICBbNDMuNjUwOTQzMiwgLTc5LjU1NDcyNDQwMDAwMDAxXSwKICAgICAgICAgICAgICAgIHsKICAiYnViYmxpbmdNb3VzZUV2ZW50cyI6IHRydWUsCiAgImNvbG9yIjogIiNmZjAwMDAiLAogICJkYXNoQXJyYXkiOiBudWxsLAogICJkYXNoT2Zmc2V0IjogbnVsbCwKICAiZmlsbCI6IHRydWUsCiAgImZpbGxDb2xvciI6ICIjZmYwMDAwIiwKICAiZmlsbE9wYWNpdHkiOiAwLjcsCiAgImZpbGxSdWxlIjogImV2ZW5vZGQiLAogICJsaW5lQ2FwIjogInJvdW5kIiwKICAibGluZUpvaW4iOiAicm91bmQiLAogICJvcGFjaXR5IjogMS4wLAogICJyYWRpdXMiOiA1LAogICJzdHJva2UiOiB0cnVlLAogICJ3ZWlnaHQiOiAzCn0KICAgICAgICAgICAgICAgICkKICAgICAgICAgICAgICAgIC5hZGRUbyhtYXBfODdiZDc1NzQ5MDdkNDg1MmFhY2RlYTllNjI2NzJhYmUpOwogICAgICAgICAgICAKICAgIAogICAgICAgICAgICB2YXIgcG9wdXBfNWZmYzY1NDk0YmZiNDM1Mzk5N2QwZjcyNTJiMTAwNjMgPSBMLnBvcHVwKHttYXhXaWR0aDogJzEwMCUnCiAgICAgICAgICAgIAogICAgICAgICAgICB9KTsKCiAgICAgICAgICAgIAogICAgICAgICAgICAgICAgdmFyIGh0bWxfNGFlYWE2ZDhkNDIwNDlhNTgyYmEzODk2NzU1YTMyOTcgPSAkKGA8ZGl2IGlkPSJodG1sXzRhZWFhNmQ4ZDQyMDQ5YTU4MmJhMzg5Njc1NWEzMjk3IiBzdHlsZT0id2lkdGg6IDEwMC4wJTsgaGVpZ2h0OiAxMDAuMCU7Ij5DbG92ZXJkYWxlLElzbGluZ3RvbixNYXJ0aW4gR3JvdmUsUHJpbmNlc3MgR2FyZGVucyxXZXN0IERlYW5lIFBhcmsgQ2x1c3RlciAwPC9kaXY+YClbMF07CiAgICAgICAgICAgICAgICBwb3B1cF81ZmZjNjU0OTRiZmI0MzUzOTk3ZDBmNzI1MmIxMDA2My5zZXRDb250ZW50KGh0bWxfNGFlYWE2ZDhkNDIwNDlhNTgyYmEzODk2NzU1YTMyOTcpOwogICAgICAgICAgICAKCiAgICAgICAgICAgIGNpcmNsZV9tYXJrZXJfYWYyN2Q1ZWMwZTVhNGNiMGIyNTU4YTliMTQ2YjBmODMuYmluZFBvcHVwKHBvcHVwXzVmZmM2NTQ5NGJmYjQzNTM5OTdkMGY3MjUyYjEwMDYzKQogICAgICAgICAgICA7CgogICAgICAgICAgICAKICAgICAgICAKICAgIAogICAgICAgICAgICB2YXIgY2lyY2xlX21hcmtlcl9jODVlZDliNGJkNmE0MGVhYmZmOTJkNTdhOGVhMDYxOSA9IEwuY2lyY2xlTWFya2VyKAogICAgICAgICAgICAgICAgWzQzLjY0MzUxNTIsIC03OS41NzcyMDA3OTk5OTk5OV0sCiAgICAgICAgICAgICAgICB7CiAgImJ1YmJsaW5nTW91c2VFdmVudHMiOiB0cnVlLAogICJjb2xvciI6ICIjZmYwMDAwIiwKICAiZGFzaEFycmF5IjogbnVsbCwKICAiZGFzaE9mZnNldCI6IG51bGwsCiAgImZpbGwiOiB0cnVlLAogICJmaWxsQ29sb3IiOiAiI2ZmMDAwMCIsCiAgImZpbGxPcGFjaXR5IjogMC43LAogICJmaWxsUnVsZSI6ICJldmVub2RkIiwKICAibGluZUNhcCI6ICJyb3VuZCIsCiAgImxpbmVKb2luIjogInJvdW5kIiwKICAib3BhY2l0eSI6IDEuMCwKICAicmFkaXVzIjogNSwKICAic3Ryb2tlIjogdHJ1ZSwKICAid2VpZ2h0IjogMwp9CiAgICAgICAgICAgICAgICApCiAgICAgICAgICAgICAgICAuYWRkVG8obWFwXzg3YmQ3NTc0OTA3ZDQ4NTJhYWNkZWE5ZTYyNjcyYWJlKTsKICAgICAgICAgICAgCiAgICAKICAgICAgICAgICAgdmFyIHBvcHVwXzYxYjAzN2VjMDJmZDRkMmVhYjc2ZWQ1OWYzNjMzYWU2ID0gTC5wb3B1cCh7bWF4V2lkdGg6ICcxMDAlJwogICAgICAgICAgICAKICAgICAgICAgICAgfSk7CgogICAgICAgICAgICAKICAgICAgICAgICAgICAgIHZhciBodG1sX2FjZTY1NTA2MWFiMDRlN2I4M2UwYmQ2YWM0ZjVjZTUwID0gJChgPGRpdiBpZD0iaHRtbF9hY2U2NTUwNjFhYjA0ZTdiODNlMGJkNmFjNGY1Y2U1MCIgc3R5bGU9IndpZHRoOiAxMDAuMCU7IGhlaWdodDogMTAwLjAlOyI+Qmxvb3JkYWxlIEdhcmRlbnMsRXJpbmdhdGUsTWFya2xhbmQgV29vZCxPbGQgQnVybmhhbXRob3JwZSBDbHVzdGVyIDA8L2Rpdj5gKVswXTsKICAgICAgICAgICAgICAgIHBvcHVwXzYxYjAzN2VjMDJmZDRkMmVhYjc2ZWQ1OWYzNjMzYWU2LnNldENvbnRlbnQoaHRtbF9hY2U2NTUwNjFhYjA0ZTdiODNlMGJkNmFjNGY1Y2U1MCk7CiAgICAgICAgICAgIAoKICAgICAgICAgICAgY2lyY2xlX21hcmtlcl9jODVlZDliNGJkNmE0MGVhYmZmOTJkNTdhOGVhMDYxOS5iaW5kUG9wdXAocG9wdXBfNjFiMDM3ZWMwMmZkNGQyZWFiNzZlZDU5ZjM2MzNhZTYpCiAgICAgICAgICAgIDsKCiAgICAgICAgICAgIAogICAgICAgIAogICAgCiAgICAgICAgICAgIHZhciBjaXJjbGVfbWFya2VyXzU0M2U3MjU3YzU5NTQzNTViNjJmMjcyYzU3OWQ5MDQ3ID0gTC5jaXJjbGVNYXJrZXIoCiAgICAgICAgICAgICAgICBbNDMuNjk2MzE5LCAtNzkuNTMyMjQyNDAwMDAwMDJdLAogICAgICAgICAgICAgICAgewogICJidWJibGluZ01vdXNlRXZlbnRzIjogdHJ1ZSwKICAiY29sb3IiOiAiIzgwZmZiNCIsCiAgImRhc2hBcnJheSI6IG51bGwsCiAgImRhc2hPZmZzZXQiOiBudWxsLAogICJmaWxsIjogdHJ1ZSwKICAiZmlsbENvbG9yIjogIiM4MGZmYjQiLAogICJmaWxsT3BhY2l0eSI6IDAuNywKICAiZmlsbFJ1bGUiOiAiZXZlbm9kZCIsCiAgImxpbmVDYXAiOiAicm91bmQiLAogICJsaW5lSm9pbiI6ICJyb3VuZCIsCiAgIm9wYWNpdHkiOiAxLjAsCiAgInJhZGl1cyI6IDUsCiAgInN0cm9rZSI6IHRydWUsCiAgIndlaWdodCI6IDMKfQogICAgICAgICAgICAgICAgKQogICAgICAgICAgICAgICAgLmFkZFRvKG1hcF84N2JkNzU3NDkwN2Q0ODUyYWFjZGVhOWU2MjY3MmFiZSk7CiAgICAgICAgICAgIAogICAgCiAgICAgICAgICAgIHZhciBwb3B1cF8wMzliZmY5ZGU3ZDI0MzA4ODM3MjU1MjM3OWE1YTkzOCA9IEwucG9wdXAoe21heFdpZHRoOiAnMTAwJScKICAgICAgICAgICAgCiAgICAgICAgICAgIH0pOwoKICAgICAgICAgICAgCiAgICAgICAgICAgICAgICB2YXIgaHRtbF9kMDFiMzI4OGIxNWY0MjM0YTc2NjgyMzdkZTVjYWUyMSA9ICQoYDxkaXYgaWQ9Imh0bWxfZDAxYjMyODhiMTVmNDIzNGE3NjY4MjM3ZGU1Y2FlMjEiIHN0eWxlPSJ3aWR0aDogMTAwLjAlOyBoZWlnaHQ6IDEwMC4wJTsiPldlc3Rtb3VudCBDbHVzdGVyIDM8L2Rpdj5gKVswXTsKICAgICAgICAgICAgICAgIHBvcHVwXzAzOWJmZjlkZTdkMjQzMDg4MzcyNTUyMzc5YTVhOTM4LnNldENvbnRlbnQoaHRtbF9kMDFiMzI4OGIxNWY0MjM0YTc2NjgyMzdkZTVjYWUyMSk7CiAgICAgICAgICAgIAoKICAgICAgICAgICAgY2lyY2xlX21hcmtlcl81NDNlNzI1N2M1OTU0MzU1YjYyZjI3MmM1NzlkOTA0Ny5iaW5kUG9wdXAocG9wdXBfMDM5YmZmOWRlN2QyNDMwODgzNzI1NTIzNzlhNWE5MzgpCiAgICAgICAgICAgIDsKCiAgICAgICAgICAgIAogICAgICAgIAogICAgCiAgICAgICAgICAgIHZhciBjaXJjbGVfbWFya2VyXzQyNDVhZmZkOTNhNjQzYTI5MDIxOTU3ZWM4NGM2YTVjID0gTC5jaXJjbGVNYXJrZXIoCiAgICAgICAgICAgICAgICBbNDMuNjg4OTA1NCwgLTc5LjU1NDcyNDQwMDAwMDAxXSwKICAgICAgICAgICAgICAgIHsKICAiYnViYmxpbmdNb3VzZUV2ZW50cyI6IHRydWUsCiAgImNvbG9yIjogIiM4MGZmYjQiLAogICJkYXNoQXJyYXkiOiBudWxsLAogICJkYXNoT2Zmc2V0IjogbnVsbCwKICAiZmlsbCI6IHRydWUsCiAgImZpbGxDb2xvciI6ICIjODBmZmI0IiwKICAiZmlsbE9wYWNpdHkiOiAwLjcsCiAgImZpbGxSdWxlIjogImV2ZW5vZGQiLAogICJsaW5lQ2FwIjogInJvdW5kIiwKICAibGluZUpvaW4iOiAicm91bmQiLAogICJvcGFjaXR5IjogMS4wLAogICJyYWRpdXMiOiA1LAogICJzdHJva2UiOiB0cnVlLAogICJ3ZWlnaHQiOiAzCn0KICAgICAgICAgICAgICAgICkKICAgICAgICAgICAgICAgIC5hZGRUbyhtYXBfODdiZDc1NzQ5MDdkNDg1MmFhY2RlYTllNjI2NzJhYmUpOwogICAgICAgICAgICAKICAgIAogICAgICAgICAgICB2YXIgcG9wdXBfZmM4MTAwMWMzNjdkNDkyZmFhYTU4NjBmOTA5MTkxMzEgPSBMLnBvcHVwKHttYXhXaWR0aDogJzEwMCUnCiAgICAgICAgICAgIAogICAgICAgICAgICB9KTsKCiAgICAgICAgICAgIAogICAgICAgICAgICAgICAgdmFyIGh0bWxfYzA3YjJhMDFmM2MyNGFmMDg1Njk5MGJmMTQ3OThkZjggPSAkKGA8ZGl2IGlkPSJodG1sX2MwN2IyYTAxZjNjMjRhZjA4NTY5OTBiZjE0Nzk4ZGY4IiBzdHlsZT0id2lkdGg6IDEwMC4wJTsgaGVpZ2h0OiAxMDAuMCU7Ij5LaW5nc3ZpZXcgVmlsbGFnZSxNYXJ0aW4gR3JvdmUgR2FyZGVucyxSaWNodmlldyBHYXJkZW5zLFN0LiBQaGlsbGlwcyBDbHVzdGVyIDM8L2Rpdj5gKVswXTsKICAgICAgICAgICAgICAgIHBvcHVwX2ZjODEwMDFjMzY3ZDQ5MmZhYWE1ODYwZjkwOTE5MTMxLnNldENvbnRlbnQoaHRtbF9jMDdiMmEwMWYzYzI0YWYwODU2OTkwYmYxNDc5OGRmOCk7CiAgICAgICAgICAgIAoKICAgICAgICAgICAgY2lyY2xlX21hcmtlcl80MjQ1YWZmZDkzYTY0M2EyOTAyMTk1N2VjODRjNmE1Yy5iaW5kUG9wdXAocG9wdXBfZmM4MTAwMWMzNjdkNDkyZmFhYTU4NjBmOTA5MTkxMzEpCiAgICAgICAgICAgIDsKCiAgICAgICAgICAgIAogICAgICAgIAogICAgCiAgICAgICAgICAgIHZhciBjaXJjbGVfbWFya2VyXzZiNWQwZTU5MTY1NDQ4ZjU5MDRhY2JiMmU2ZGI1ZDNlID0gTC5jaXJjbGVNYXJrZXIoCiAgICAgICAgICAgICAgICBbNDMuNzM5NDE2Mzk5OTk5OTk2LCAtNzkuNTg4NDM2OV0sCiAgICAgICAgICAgICAgICB7CiAgImJ1YmJsaW5nTW91c2VFdmVudHMiOiB0cnVlLAogICJjb2xvciI6ICIjODBmZmI0IiwKICAiZGFzaEFycmF5IjogbnVsbCwKICAiZGFzaE9mZnNldCI6IG51bGwsCiAgImZpbGwiOiB0cnVlLAogICJmaWxsQ29sb3IiOiAiIzgwZmZiNCIsCiAgImZpbGxPcGFjaXR5IjogMC43LAogICJmaWxsUnVsZSI6ICJldmVub2RkIiwKICAibGluZUNhcCI6ICJyb3VuZCIsCiAgImxpbmVKb2luIjogInJvdW5kIiwKICAib3BhY2l0eSI6IDEuMCwKICAicmFkaXVzIjogNSwKICAic3Ryb2tlIjogdHJ1ZSwKICAid2VpZ2h0IjogMwp9CiAgICAgICAgICAgICAgICApCiAgICAgICAgICAgICAgICAuYWRkVG8obWFwXzg3YmQ3NTc0OTA3ZDQ4NTJhYWNkZWE5ZTYyNjcyYWJlKTsKICAgICAgICAgICAgCiAgICAKICAgICAgICAgICAgdmFyIHBvcHVwXzMzMmUyN2Q2ZjlkMTQwZTViMjYwNzNkMzMxNWY0ZDE1ID0gTC5wb3B1cCh7bWF4V2lkdGg6ICcxMDAlJwogICAgICAgICAgICAKICAgICAgICAgICAgfSk7CgogICAgICAgICAgICAKICAgICAgICAgICAgICAgIHZhciBodG1sXzkxZTg0YWI2NWY2ZjQ4N2NhYzY0MzQ5OGNhYjAxOWI0ID0gJChgPGRpdiBpZD0iaHRtbF85MWU4NGFiNjVmNmY0ODdjYWM2NDM0OThjYWIwMTliNCIgc3R5bGU9IndpZHRoOiAxMDAuMCU7IGhlaWdodDogMTAwLjAlOyI+QWxiaW9uIEdhcmRlbnMsQmVhdW1vbmQgSGVpZ2h0cyxIdW1iZXJnYXRlLEphbWVzdG93bixNb3VudCBPbGl2ZSxTaWx2ZXJzdG9uZSxTb3V0aCBTdGVlbGVzLFRoaXN0bGV0b3duIENsdXN0ZXIgMzwvZGl2PmApWzBdOwogICAgICAgICAgICAgICAgcG9wdXBfMzMyZTI3ZDZmOWQxNDBlNWIyNjA3M2QzMzE1ZjRkMTUuc2V0Q29udGVudChodG1sXzkxZTg0YWI2NWY2ZjQ4N2NhYzY0MzQ5OGNhYjAxOWI0KTsKICAgICAgICAgICAgCgogICAgICAgICAgICBjaXJjbGVfbWFya2VyXzZiNWQwZTU5MTY1NDQ4ZjU5MDRhY2JiMmU2ZGI1ZDNlLmJpbmRQb3B1cChwb3B1cF8zMzJlMjdkNmY5ZDE0MGU1YjI2MDczZDMzMTVmNGQxNSkKICAgICAgICAgICAgOwoKICAgICAgICAgICAgCiAgICAgICAgCiAgICAKICAgICAgICAgICAgdmFyIGNpcmNsZV9tYXJrZXJfZWZkOTViNDM2YWRhNGQ4MDgyM2Y3YzRhOTNhNDg1ZDkgPSBMLmNpcmNsZU1hcmtlcigKICAgICAgICAgICAgICAgIFs0My43MDY3NDgyOTk5OTk5OTQsIC03OS41OTQwNTQ0XSwKICAgICAgICAgICAgICAgIHsKICAiYnViYmxpbmdNb3VzZUV2ZW50cyI6IHRydWUsCiAgImNvbG9yIjogIiM4MDAwZmYiLAogICJkYXNoQXJyYXkiOiBudWxsLAogICJkYXNoT2Zmc2V0IjogbnVsbCwKICAiZmlsbCI6IHRydWUsCiAgImZpbGxDb2xvciI6ICIjODAwMGZmIiwKICAiZmlsbE9wYWNpdHkiOiAwLjcsCiAgImZpbGxSdWxlIjogImV2ZW5vZGQiLAogICJsaW5lQ2FwIjogInJvdW5kIiwKICAibGluZUpvaW4iOiAicm91bmQiLAogICJvcGFjaXR5IjogMS4wLAogICJyYWRpdXMiOiA1LAogICJzdHJva2UiOiB0cnVlLAogICJ3ZWlnaHQiOiAzCn0KICAgICAgICAgICAgICAgICkKICAgICAgICAgICAgICAgIC5hZGRUbyhtYXBfODdiZDc1NzQ5MDdkNDg1MmFhY2RlYTllNjI2NzJhYmUpOwogICAgICAgICAgICAKICAgIAogICAgICAgICAgICB2YXIgcG9wdXBfZWY2Mjk5YmNkZDMxNDQyMDg3MThjNmI0OTAyYzAzNmYgPSBMLnBvcHVwKHttYXhXaWR0aDogJzEwMCUnCiAgICAgICAgICAgIAogICAgICAgICAgICB9KTsKCiAgICAgICAgICAgIAogICAgICAgICAgICAgICAgdmFyIGh0bWxfYjJjNjc5ZTdkYzJlNDAyZmI5YmQ4ZGMyMGQ0MDllY2IgPSAkKGA8ZGl2IGlkPSJodG1sX2IyYzY3OWU3ZGMyZTQwMmZiOWJkOGRjMjBkNDA5ZWNiIiBzdHlsZT0id2lkdGg6IDEwMC4wJTsgaGVpZ2h0OiAxMDAuMCU7Ij5Ob3J0aHdlc3QgQ2x1c3RlciAxPC9kaXY+YClbMF07CiAgICAgICAgICAgICAgICBwb3B1cF9lZjYyOTliY2RkMzE0NDIwODcxOGM2YjQ5MDJjMDM2Zi5zZXRDb250ZW50KGh0bWxfYjJjNjc5ZTdkYzJlNDAyZmI5YmQ4ZGMyMGQ0MDllY2IpOwogICAgICAgICAgICAKCiAgICAgICAgICAgIGNpcmNsZV9tYXJrZXJfZWZkOTViNDM2YWRhNGQ4MDgyM2Y3YzRhOTNhNDg1ZDkuYmluZFBvcHVwKHBvcHVwX2VmNjI5OWJjZGQzMTQ0MjA4NzE4YzZiNDkwMmMwMzZmKQogICAgICAgICAgICA7CgogICAgICAgICAgICAKICAgICAgICAKPC9zY3JpcHQ+\" style=\"position:absolute;width:100%;height:100%;left:0;top:0;border:none !important;\" allowfullscreen webkitallowfullscreen mozallowfullscreen></iframe></div></div>"
            ],
            "text/plain": [
              "<folium.folium.Map at 0x7f76eb6da668>"
            ]
          },
          "metadata": {
            "tags": []
          },
          "execution_count": 23
        }
      ]
    },
    {
      "cell_type": "code",
      "metadata": {
        "id": "UXMC1th6ACB0",
        "colab_type": "code",
        "colab": {}
      },
      "source": [
        ""
      ],
      "execution_count": 0,
      "outputs": []
    }
  ]
}