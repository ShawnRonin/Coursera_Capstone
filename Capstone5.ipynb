{
  "nbformat": 4,
  "nbformat_minor": 0,
  "metadata": {
    "colab": {
      "name": "Capstone4.ipynb",
      "version": "0.3.2",
      "provenance": [],
      "collapsed_sections": [],
      "include_colab_link": true
    },
    "kernelspec": {
      "name": "python3",
      "display_name": "Python 3"
    }
  },
  "cells": [
    {
      "cell_type": "markdown",
      "metadata": {
        "id": "view-in-github",
        "colab_type": "text"
      },
      "source": [
        "<a href=\"https://colab.research.google.com/github/ShawnRonin/Coursera_Capstone/blob/master/Capstone5.ipynb\" target=\"_parent\"><img src=\"https://colab.research.google.com/assets/colab-badge.svg\" alt=\"Open In Colab\"/></a>"
      ]
    },
    {
      "cell_type": "markdown",
      "metadata": {
        "id": "0NUweJFj9vlj",
        "colab_type": "text"
      },
      "source": [
        "# London Gym Search\n",
        "*IBM Data Science Professional Certificate Capstone Project*\n",
        "\n"
      ]
    },
    {
      "cell_type": "markdown",
      "metadata": {
        "id": "OqI9Ocoq-IGa",
        "colab_type": "text"
      },
      "source": [
        "**Introduction**\n",
        "\n",
        "On behalf of stakeholders in a prospective venture to open and gym in the city of London, Ontario, Canada we are undertaking the service of performing a survey of gyms in the city. The stakeholders are interested in finding an area not currently served by a gym to minimize their competition. Opening in a location with a surplus of gyms would require a more significant investment in start-up marketing and require reducing costs to be able to undercut nearby competition. The stakeholders wish to avoid this.\n"
      ]
    },
    {
      "cell_type": "markdown",
      "metadata": {
        "id": "zUrn9UCn-M5I",
        "colab_type": "text"
      },
      "source": [
        "**Business Problem**\n",
        "\n",
        "Using Foursquare data for the city of London, Ontario, Canada, where could a prospective gym owner find an area not currently being served by an existing fitness business. Fitness is a booming industry and prospective real estate will be moving fast. Does London have the space for another gym. If so, where? \n"
      ]
    },
    {
      "cell_type": "markdown",
      "metadata": {
        "id": "SLCCa1Sc-NcK",
        "colab_type": "text"
      },
      "source": [
        "**Data & Methodology**\n",
        "\n",
        "Data will be pulled from the Foursquare API, specifically querying for fitness related businesses within a fifteen-kilometer radius of the city centre of London, Ontario, Canada. Searched data will be stored and filtered for applicability and then location data will be plotted on a map to visualize the current state of the fitness industry in London.\n"
      ]
    },
    {
      "cell_type": "code",
      "metadata": {
        "id": "YPvLAUpG93L_",
        "colab_type": "code",
        "colab": {}
      },
      "source": [
        "import pandas as pd"
      ],
      "execution_count": 0,
      "outputs": []
    },
    {
      "cell_type": "code",
      "metadata": {
        "id": "Xyt-YBxv5qdC",
        "colab_type": "code",
        "colab": {}
      },
      "source": [
        "CLIENT_ID = 'VACLNPU0GQJWRLQFFS53YYJVKOFU104PVLCERJOFTFGELELM' \n",
        "CLIENT_SECRET = 'VXZSKZE2GXYP4RTZIGE0400A4Y350PAA2RP0P5OQTLGU3QZS'\n",
        "VERSION = '20190623'"
      ],
      "execution_count": 0,
      "outputs": []
    },
    {
      "cell_type": "markdown",
      "metadata": {
        "id": "jbekjohaLMQp",
        "colab_type": "text"
      },
      "source": [
        "We will begin by writing a function to query the Foursquare API. The query will be center on the city of interest out to a radius of 15km. We will be specially querying Venues that fit the Fitness category, ID code: 4bf58dd8d48988d175941735"
      ]
    },
    {
      "cell_type": "code",
      "metadata": {
        "id": "bwUtqemu66Pv",
        "colab_type": "code",
        "colab": {}
      },
      "source": [
        "def getNearbyVenues(names, latitudes, longitudes, radius=15000):\n",
        "    \n",
        "    venues_list=[]\n",
        "    name, lat, lng  = names, latitudes, longitudes\n",
        "    print(name)\n",
        "            \n",
        "    # create the API request URL\n",
        "    url = 'https://api.foursquare.com/v2/venues/explore?&client_id={}&client_secret={}&v={}&ll={},{}&radius={}&limit={}&categoryId=4bf58dd8d48988d175941735'.format(\n",
        "         CLIENT_ID, \n",
        "         CLIENT_SECRET, \n",
        "         VERSION, \n",
        "         lat, \n",
        "         lng, \n",
        "         15000, \n",
        "         100\n",
        "         )\n",
        "            \n",
        "    # make the GET request\n",
        "    results = requests.get(url).json()[\"response\"]['groups'][0]['items']\n",
        "       \n",
        "    # return only relevant information for each nearby venue\n",
        "    venues_list.append([(\n",
        "        name, \n",
        "        lat, \n",
        "        lng, \n",
        "        v['venue']['name'], \n",
        "        v['venue']['location']['lat'], \n",
        "        v['venue']['location']['lng'],  \n",
        "        v['venue']['categories'][0]['name']) for v in results])\n",
        "\n",
        "    nearby_venues = pd.DataFrame([item for venue_list in venues_list for item in venue_list])\n",
        "    nearby_venues.columns = ['Neighbourhood', \n",
        "                  'Neighbourhood Latitude', \n",
        "                  'Neighbourhood Longitude', \n",
        "                  'Venue', \n",
        "                  'Venue Latitude', \n",
        "                  'Venue Longitude', \n",
        "                  'Venue Category']\n",
        "    \n",
        "    return(nearby_venues)"
      ],
      "execution_count": 0,
      "outputs": []
    },
    {
      "cell_type": "markdown",
      "metadata": {
        "id": "-f17Mjt4-5YU",
        "colab_type": "text"
      },
      "source": [
        "Using the geolocator function, we find the city center of London, Ontario, Canada. We have to be careful not to get it confused with London, England."
      ]
    },
    {
      "cell_type": "code",
      "metadata": {
        "id": "vnGg-pps_zQm",
        "colab_type": "code",
        "colab": {
          "base_uri": "https://localhost:8080/",
          "height": 34
        },
        "outputId": "0d32bf87-c5b6-4c47-cfcc-d95f17f221d7"
      },
      "source": [
        "address = 'London, Ontario, Canada'\n",
        "\n",
        "geolocator = Nominatim(user_agent=\"ny_explorer\")\n",
        "location = geolocator.geocode(address)\n",
        "latitude = location.latitude\n",
        "longitude = location.longitude\n",
        "print('The geograpical coordinate of London, Ontario, Canada are {}, {}.'.format(latitude, longitude))"
      ],
      "execution_count": 212,
      "outputs": [
        {
          "output_type": "stream",
          "text": [
            "The geograpical coordinate of London, Ontario, Canada are 42.9537654, -81.2291529.\n"
          ],
          "name": "stdout"
        }
      ]
    },
    {
      "cell_type": "markdown",
      "metadata": {
        "id": "9BnEim2BLTKA",
        "colab_type": "text"
      },
      "source": [
        "Now we call foursquare to get ftiness venues within a 15km radius of the London, Ontario, Canada city center."
      ]
    },
    {
      "cell_type": "code",
      "metadata": {
        "id": "b5k-vql77OPT",
        "colab_type": "code",
        "outputId": "f42da8d2-f09d-4fe7-c033-e2d343254b7a",
        "colab": {
          "base_uri": "https://localhost:8080/",
          "height": 34
        }
      },
      "source": [
        "london_venues = getNearbyVenues(names=address,\n",
        "                                   latitudes=latitude,\n",
        "                                   longitudes=longitude\n",
        "                                  )"
      ],
      "execution_count": 213,
      "outputs": [
        {
          "output_type": "stream",
          "text": [
            "London, Ontario, Canada\n"
          ],
          "name": "stdout"
        }
      ]
    },
    {
      "cell_type": "code",
      "metadata": {
        "id": "GHUrwCVh9NjL",
        "colab_type": "code",
        "colab": {
          "base_uri": "https://localhost:8080/",
          "height": 204
        },
        "outputId": "d238e685-f6ac-4428-836c-9cec53278768"
      },
      "source": [
        "london_venues.head()"
      ],
      "execution_count": 214,
      "outputs": [
        {
          "output_type": "execute_result",
          "data": {
            "text/html": [
              "<div>\n",
              "<style scoped>\n",
              "    .dataframe tbody tr th:only-of-type {\n",
              "        vertical-align: middle;\n",
              "    }\n",
              "\n",
              "    .dataframe tbody tr th {\n",
              "        vertical-align: top;\n",
              "    }\n",
              "\n",
              "    .dataframe thead th {\n",
              "        text-align: right;\n",
              "    }\n",
              "</style>\n",
              "<table border=\"1\" class=\"dataframe\">\n",
              "  <thead>\n",
              "    <tr style=\"text-align: right;\">\n",
              "      <th></th>\n",
              "      <th>Neighbourhood</th>\n",
              "      <th>Neighbourhood Latitude</th>\n",
              "      <th>Neighbourhood Longitude</th>\n",
              "      <th>Venue</th>\n",
              "      <th>Venue Latitude</th>\n",
              "      <th>Venue Longitude</th>\n",
              "      <th>Venue Category</th>\n",
              "    </tr>\n",
              "  </thead>\n",
              "  <tbody>\n",
              "    <tr>\n",
              "      <th>0</th>\n",
              "      <td>London, Ontario, Canada</td>\n",
              "      <td>42.953765</td>\n",
              "      <td>-81.229153</td>\n",
              "      <td>YMCA</td>\n",
              "      <td>42.985099</td>\n",
              "      <td>-81.241463</td>\n",
              "      <td>Gym / Fitness Center</td>\n",
              "    </tr>\n",
              "    <tr>\n",
              "      <th>1</th>\n",
              "      <td>London, Ontario, Canada</td>\n",
              "      <td>42.953765</td>\n",
              "      <td>-81.229153</td>\n",
              "      <td>The Fitness Forum</td>\n",
              "      <td>42.942077</td>\n",
              "      <td>-81.238288</td>\n",
              "      <td>Gym / Fitness Center</td>\n",
              "    </tr>\n",
              "    <tr>\n",
              "      <th>2</th>\n",
              "      <td>London, Ontario, Canada</td>\n",
              "      <td>42.953765</td>\n",
              "      <td>-81.229153</td>\n",
              "      <td>Movati Athletic London North</td>\n",
              "      <td>42.990163</td>\n",
              "      <td>-81.294998</td>\n",
              "      <td>Gym / Fitness Center</td>\n",
              "    </tr>\n",
              "    <tr>\n",
              "      <th>3</th>\n",
              "      <td>London, Ontario, Canada</td>\n",
              "      <td>42.953765</td>\n",
              "      <td>-81.229153</td>\n",
              "      <td>GoodLife Fitness London Southdale</td>\n",
              "      <td>42.942747</td>\n",
              "      <td>-81.229711</td>\n",
              "      <td>Gym / Fitness Center</td>\n",
              "    </tr>\n",
              "    <tr>\n",
              "      <th>4</th>\n",
              "      <td>London, Ontario, Canada</td>\n",
              "      <td>42.953765</td>\n",
              "      <td>-81.229153</td>\n",
              "      <td>YMCA</td>\n",
              "      <td>43.048256</td>\n",
              "      <td>-81.257706</td>\n",
              "      <td>Gym / Fitness Center</td>\n",
              "    </tr>\n",
              "  </tbody>\n",
              "</table>\n",
              "</div>"
            ],
            "text/plain": [
              "             Neighbourhood  ...        Venue Category\n",
              "0  London, Ontario, Canada  ...  Gym / Fitness Center\n",
              "1  London, Ontario, Canada  ...  Gym / Fitness Center\n",
              "2  London, Ontario, Canada  ...  Gym / Fitness Center\n",
              "3  London, Ontario, Canada  ...  Gym / Fitness Center\n",
              "4  London, Ontario, Canada  ...  Gym / Fitness Center\n",
              "\n",
              "[5 rows x 7 columns]"
            ]
          },
          "metadata": {
            "tags": []
          },
          "execution_count": 214
        }
      ]
    },
    {
      "cell_type": "markdown",
      "metadata": {
        "id": "Bw2iNQUA_TxB",
        "colab_type": "text"
      },
      "source": [
        "Here we filter out the Fitness busniesses that do not fit our criteria. That includes Yoga Studios, Weight Loss Centers, and a High School which are easily done through their Venue Category. Then we filter more by inspection for those improperly clasified under 'gym' such as gymnastics centers, karate schools, a business office, and a medical health center.\n",
        "We are left with a data frame contain the names of the gym venues and their geographic locations."
      ]
    },
    {
      "cell_type": "code",
      "metadata": {
        "id": "tlJPz1PO2LCn",
        "colab_type": "code",
        "colab": {
          "base_uri": "https://localhost:8080/",
          "height": 204
        },
        "outputId": "943afa2f-de34-4467-e4d1-fb8f19c962bb"
      },
      "source": [
        "london_gyms = london_venues[london_venues[\"Venue Category\"] != \"Yoga Studio\"]\n",
        "london_gyms = london_gyms[london_gyms[\"Venue Category\"] != \"Weight Loss Center\"]\n",
        "london_gyms = london_gyms[london_gyms[\"Venue Category\"] != \"High School\"]\n",
        "london_gyms = london_gyms.drop([10,24,27,29,38,39,48], axis=0)\n",
        "london_gyms = london_gyms.drop([\"Neighbourhood\", \"Neighbourhood Latitude\", \"Neighbourhood Longitude\", \"Venue Category\"], axis=1).reset_index(drop=True)\n",
        "london_gyms.head()"
      ],
      "execution_count": 215,
      "outputs": [
        {
          "output_type": "execute_result",
          "data": {
            "text/html": [
              "<div>\n",
              "<style scoped>\n",
              "    .dataframe tbody tr th:only-of-type {\n",
              "        vertical-align: middle;\n",
              "    }\n",
              "\n",
              "    .dataframe tbody tr th {\n",
              "        vertical-align: top;\n",
              "    }\n",
              "\n",
              "    .dataframe thead th {\n",
              "        text-align: right;\n",
              "    }\n",
              "</style>\n",
              "<table border=\"1\" class=\"dataframe\">\n",
              "  <thead>\n",
              "    <tr style=\"text-align: right;\">\n",
              "      <th></th>\n",
              "      <th>Venue</th>\n",
              "      <th>Venue Latitude</th>\n",
              "      <th>Venue Longitude</th>\n",
              "    </tr>\n",
              "  </thead>\n",
              "  <tbody>\n",
              "    <tr>\n",
              "      <th>0</th>\n",
              "      <td>YMCA</td>\n",
              "      <td>42.985099</td>\n",
              "      <td>-81.241463</td>\n",
              "    </tr>\n",
              "    <tr>\n",
              "      <th>1</th>\n",
              "      <td>The Fitness Forum</td>\n",
              "      <td>42.942077</td>\n",
              "      <td>-81.238288</td>\n",
              "    </tr>\n",
              "    <tr>\n",
              "      <th>2</th>\n",
              "      <td>Movati Athletic London North</td>\n",
              "      <td>42.990163</td>\n",
              "      <td>-81.294998</td>\n",
              "    </tr>\n",
              "    <tr>\n",
              "      <th>3</th>\n",
              "      <td>GoodLife Fitness London Southdale</td>\n",
              "      <td>42.942747</td>\n",
              "      <td>-81.229711</td>\n",
              "    </tr>\n",
              "    <tr>\n",
              "      <th>4</th>\n",
              "      <td>YMCA</td>\n",
              "      <td>43.048256</td>\n",
              "      <td>-81.257706</td>\n",
              "    </tr>\n",
              "  </tbody>\n",
              "</table>\n",
              "</div>"
            ],
            "text/plain": [
              "                               Venue  Venue Latitude  Venue Longitude\n",
              "0                               YMCA       42.985099       -81.241463\n",
              "1                  The Fitness Forum       42.942077       -81.238288\n",
              "2       Movati Athletic London North       42.990163       -81.294998\n",
              "3  GoodLife Fitness London Southdale       42.942747       -81.229711\n",
              "4                               YMCA       43.048256       -81.257706"
            ]
          },
          "metadata": {
            "tags": []
          },
          "execution_count": 215
        }
      ]
    },
    {
      "cell_type": "markdown",
      "metadata": {
        "id": "BE4QuW-zHjAV",
        "colab_type": "text"
      },
      "source": [
        "Now we use folium to plot the gym venues over a map of London, Ontario, Canada"
      ]
    },
    {
      "cell_type": "code",
      "metadata": {
        "id": "tZ3EeRmV9NfT",
        "colab_type": "code",
        "colab": {
          "base_uri": "https://localhost:8080/",
          "height": 895
        },
        "outputId": "d36e024a-4e33-4ac5-d5bc-4715e720aad6"
      },
      "source": [
        "# create map of London using latitude and longitude values\n",
        "map_london = folium.Map(location=[latitude, longitude], zoom_start=12)\n",
        "\n",
        "# add markers for each of the gyms to map\n",
        "for lat, lng, label in zip(london_gyms['Venue Latitude'], london_gyms['Venue Longitude'], london_gyms['Venue']):\n",
        "    label = folium.Popup(label, parse_html=True)\n",
        "    folium.CircleMarker(\n",
        "        [lat, lng],\n",
        "        radius=3,\n",
        "        popup=label,\n",
        "        color='blue',\n",
        "        fill=True,\n",
        "        fill_color='#3186cc',\n",
        "        fill_opacity=0.7,\n",
        "        parse_html=False).add_to(map_london)  \n",
        "    \n",
        "map_london"
      ],
      "execution_count": 216,
      "outputs": [
        {
          "output_type": "execute_result",
          "data": {
            "text/html": [
              "<div style=\"width:100%;\"><div style=\"position:relative;width:100%;height:0;padding-bottom:60%;\"><iframe src=\"data:text/html;charset=utf-8;base64,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\" style=\"position:absolute;width:100%;height:100%;left:0;top:0;border:none !important;\" allowfullscreen webkitallowfullscreen mozallowfullscreen></iframe></div></div>"
            ],
            "text/plain": [
              "<folium.folium.Map at 0x7f5f7bddcf98>"
            ]
          },
          "metadata": {
            "tags": []
          },
          "execution_count": 216
        }
      ]
    },
    {
      "cell_type": "markdown",
      "metadata": {
        "id": "ewvBQTzLAlJE",
        "colab_type": "text"
      },
      "source": [
        "**Results & Discussion**\n",
        "\n",
        "Our analysis shows that although there are a great number of gyms in London, Ontario, Canada (37 for a city of total population below 400K). While much of the city does seem to be saturated, there are a few areas of interest where one might find space to locate a gym. First is a significantly large open are north-west of the city center without a gym marked for significant radius. Unfortunately, Western University lies within this area and it does have a significantly large gym for student and staff use. Many people living in this area are likely students or university staff so they would likely served by the school. Potential areas in the far west and east also look like possible candidates but may not have enough through traffic in their area to drive great interest and many people from these areas may also be driving through to the city center for work.\n",
        "\n",
        "One area that does seem central and is not currently over served is south-west of the city centre. It is central enough to have significant thru-traffic on a major route straight through to downtown and the neighbourhood residences would are already having to drive several kilometers to the nearest gym.\n",
        "\n"
      ]
    },
    {
      "cell_type": "markdown",
      "metadata": {
        "id": "NBRFSxzlD8iD",
        "colab_type": "text"
      },
      "source": [
        "**Conclusion**\n",
        "\n",
        "Despite the few possibilities that were found, it is the recommendation of the researchers that a prospective gym owner rethink London, Ontario, Canada as a location to open their gym as it appears to be currently over served. Of the possibilities, a location in the immediate south-west of the city centre may be the best choice but would not be recommeded unless the owners are prepared for significant financial investment to compete for customers."
      ]
    },
    {
      "cell_type": "code",
      "metadata": {
        "id": "UHnYQPMviOu6",
        "colab_type": "code",
        "colab": {}
      },
      "source": [
        ""
      ],
      "execution_count": 0,
      "outputs": []
    },
    {
      "cell_type": "code",
      "metadata": {
        "id": "sSQn7xz-inBu",
        "colab_type": "code",
        "colab": {}
      },
      "source": [
        ""
      ],
      "execution_count": 0,
      "outputs": []
    }
  ]
}